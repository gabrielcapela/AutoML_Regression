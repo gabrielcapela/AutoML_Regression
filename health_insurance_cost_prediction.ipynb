{
 "cells": [
  {
   "cell_type": "markdown",
   "metadata": {},
   "source": [
    "---\n",
    "\n",
    "\n",
    "<img width=25% src=\"https://raw.githubusercontent.com/gabrielcapela/Credit-Card-Fraud-Detection-/main/images/myself.png\" align=right>\n",
    "\n",
    "# **Health Insurance Cost Prediction Project**\n",
    "\n",
    "*by Gabriel Capela*\n",
    "\n",
    "[<img src=\"https://img.shields.io/badge/LinkedIn-0077B5?style=for-the-badge&logo=linkedin&logoColor=white\"/>](https://www.linkedin.com/in/gabrielcapela)\n",
    "[<img src=\"https://img.shields.io/badge/Medium-12100E?style=for-the-badge&logo=medium&logoColor=white\" />](https://medium.com/@gabrielcapela)\n",
    "\n",
    "---\n",
    "\n",
    "**Health insurance** is a contract that covers medical expenses in exchange for an annual fee. It protects you from unexpected medical costs and offers many other benefits.\n",
    "\n",
    "This project will consist of using individual customer information (age, BMI, whether they are a smoker, etc.) and the annual cost of their health insurance to obtain a model that can indicate an optimal price for health insurance, given the individual's data. For this, several **supervised machine learning models** will be tested, the one that obtains the lowest error rates will be selected and will go through the finetuning process, in order to improve its prediction.\n",
    "<p align=\"center\">\n",
    "<img width=50% src=\"https://github.com/gabrielcapela/AutoML-Projects/blob/main/Regression/images/national-cancer-institute-NFvdKIhxYlU-unsplash.jpg?raw=true\">\n",
    "</p>\n",
    "\n",
    "The purpose of this project is to apply **Automated Machine Learning**, in order to demonstrate the practicality of this type of tool. The data used was taken from [Kaggle](https://www.kaggle.com/datasets/annetxu/health-insurance-cost-prediction/data)."
   ]
  },
  {
   "cell_type": "markdown",
   "metadata": {},
   "source": [
    "# Business Understanding "
   ]
  },
  {
   "cell_type": "markdown",
   "metadata": {},
   "source": [
    "In the health insurance sector, pricing plans is a **critical challenge** for insurers. The cost of health insurance varies according to several factors, such as age, medical history, lifestyle habits and demographic characteristics of policyholders. Inadequate pricing can lead to financial losses for the company or uncompetitive prices, impacting customer retention and acquisition.\n",
    "\n",
    "This project seeks to develop a Machine Learning model capable of **accurately predicting health insurance cost**s based on individual characteristics of policyholders. Automating this process, using **AutoML**, allows us to identify hidden patterns in the data and optimize pricing efficiently, reducing errors and increasing transparency in decisions.\n",
    "\n",
    "The main objectives of this study are:\n",
    "*   Improving cost predictability – Creating a model capable of estimating insurance costs with a high degree of accuracy.\n",
    "\n",
    "*   Supporting decision-making – Helping insurers define fairer and more sustainable prices.\n",
    "\n",
    "*   Exploring the influence of risk factors – Identifying which variables have the most significant impact on insurance costs.\n",
    "\n",
    "With this data-driven approach, it is expected to not only improve the efficiency of the sector, but also offer customers prices that are more appropriate to their risk profile."
   ]
  },
  {
   "cell_type": "markdown",
   "metadata": {},
   "source": [
    "# Data Understanding"
   ]
  },
  {
   "cell_type": "markdown",
   "metadata": {},
   "source": [
    "The dataset used can be downloaded from this [page](https://github.com/gabrielcapela/AutoML-Projects/blob/main/Regression/insurance.csv)"
   ]
  },
  {
   "cell_type": "markdown",
   "metadata": {},
   "source": [
    "## Obtaining and Summary Analysis of Data"
   ]
  },
  {
   "cell_type": "markdown",
   "metadata": {},
   "source": [
    "Let's start by importing the data and previewing the first few rows to illustrate the meaning of each column:"
   ]
  },
  {
   "cell_type": "code",
   "execution_count": 82,
   "metadata": {},
   "outputs": [],
   "source": [
    "# Importing the necessary packages\n",
    "import pandas as pd\n",
    "import numpy as np\n",
    "import matplotlib.pyplot as plt\n",
    "import seaborn as sns"
   ]
  },
  {
   "cell_type": "code",
   "execution_count": 110,
   "metadata": {},
   "outputs": [
    {
     "name": "stdout",
     "output_type": "stream",
     "text": [
      "The data has 1338 rows and 7 variables\n"
     ]
    },
    {
     "data": {
      "text/html": [
       "<div>\n",
       "<style scoped>\n",
       "    .dataframe tbody tr th:only-of-type {\n",
       "        vertical-align: middle;\n",
       "    }\n",
       "\n",
       "    .dataframe tbody tr th {\n",
       "        vertical-align: top;\n",
       "    }\n",
       "\n",
       "    .dataframe thead th {\n",
       "        text-align: right;\n",
       "    }\n",
       "</style>\n",
       "<table border=\"1\" class=\"dataframe\">\n",
       "  <thead>\n",
       "    <tr style=\"text-align: right;\">\n",
       "      <th></th>\n",
       "      <th>age</th>\n",
       "      <th>sex</th>\n",
       "      <th>bmi</th>\n",
       "      <th>children</th>\n",
       "      <th>smoker</th>\n",
       "      <th>region</th>\n",
       "      <th>charges</th>\n",
       "    </tr>\n",
       "  </thead>\n",
       "  <tbody>\n",
       "    <tr>\n",
       "      <th>0</th>\n",
       "      <td>19</td>\n",
       "      <td>female</td>\n",
       "      <td>27.900</td>\n",
       "      <td>0</td>\n",
       "      <td>yes</td>\n",
       "      <td>southwest</td>\n",
       "      <td>16884.92400</td>\n",
       "    </tr>\n",
       "    <tr>\n",
       "      <th>1</th>\n",
       "      <td>18</td>\n",
       "      <td>male</td>\n",
       "      <td>33.770</td>\n",
       "      <td>1</td>\n",
       "      <td>no</td>\n",
       "      <td>southeast</td>\n",
       "      <td>1725.55230</td>\n",
       "    </tr>\n",
       "    <tr>\n",
       "      <th>2</th>\n",
       "      <td>28</td>\n",
       "      <td>male</td>\n",
       "      <td>33.000</td>\n",
       "      <td>3</td>\n",
       "      <td>no</td>\n",
       "      <td>southeast</td>\n",
       "      <td>4449.46200</td>\n",
       "    </tr>\n",
       "    <tr>\n",
       "      <th>3</th>\n",
       "      <td>33</td>\n",
       "      <td>male</td>\n",
       "      <td>22.705</td>\n",
       "      <td>0</td>\n",
       "      <td>no</td>\n",
       "      <td>northwest</td>\n",
       "      <td>21984.47061</td>\n",
       "    </tr>\n",
       "    <tr>\n",
       "      <th>4</th>\n",
       "      <td>32</td>\n",
       "      <td>male</td>\n",
       "      <td>28.880</td>\n",
       "      <td>0</td>\n",
       "      <td>no</td>\n",
       "      <td>northwest</td>\n",
       "      <td>3866.85520</td>\n",
       "    </tr>\n",
       "  </tbody>\n",
       "</table>\n",
       "</div>"
      ],
      "text/plain": [
       "   age     sex     bmi  children smoker     region      charges\n",
       "0   19  female  27.900         0    yes  southwest  16884.92400\n",
       "1   18    male  33.770         1     no  southeast   1725.55230\n",
       "2   28    male  33.000         3     no  southeast   4449.46200\n",
       "3   33    male  22.705         0     no  northwest  21984.47061\n",
       "4   32    male  28.880         0     no  northwest   3866.85520"
      ]
     },
     "execution_count": 110,
     "metadata": {},
     "output_type": "execute_result"
    }
   ],
   "source": [
    "# Importing the dataset\n",
    "df = pd.read_csv('https://raw.githubusercontent.com/gabrielcapela/AutoML-Projects/refs/heads/main/Regression/insurance.csv')\n",
    "#Showing the first 5 lines\n",
    "print(f\"The data has {df.shape[0]} rows and {df.shape[1]} variables\")\n",
    "df.head()"
   ]
  },
  {
   "cell_type": "markdown",
   "metadata": {},
   "source": [
    "Below is the meaning of each variable:\n",
    "\n",
    "* **age**: The age of the insured individual in years.\n",
    "\n",
    "* **sex**: The gender of the insured individual (male or female).\n",
    "\n",
    "* **bmi**: Body Mass Index (BMI), a measure of weight relative to height.\n",
    "\n",
    "* **children**: The number of children the insured has.\n",
    "\n",
    "* **smoker**: Indicates whether the insured individual is a smoker (yes or no).\n",
    "\n",
    "* **region**: The geographic region where the insured individual resides.\n",
    "\n",
    "* **charges**: The total annual health insurance cost (in dollars) for the individual, which is the target variable in this regression model."
   ]
  },
  {
   "cell_type": "markdown",
   "metadata": {},
   "source": [
    "## Pandas Profiling"
   ]
  },
  {
   "cell_type": "markdown",
   "metadata": {},
   "source": [
    "In line with the AutoML philosophy, I will be using **Pandas Profilin**g in the Data Understanding phase of my project. Pandas Profiling **automates the generation of comprehensive Exploratory Data Analysis (EDA) reports**, allowing me to quickly and in-depth understand the dataset, summarizing important statistics, identifying missing values, detecting correlations, and visualizing distributions. The goal of this tool is to **increase productivity and reduce manual effort**, allowing me to focus on interpreting the results instead of performing repetitive EDA tasks."
   ]
  },
  {
   "cell_type": "code",
   "execution_count": 134,
   "metadata": {},
   "outputs": [
    {
     "data": {
      "application/vnd.jupyter.widget-view+json": {
       "model_id": "a162b3b7350444b3909d7ab17d48db74",
       "version_major": 2,
       "version_minor": 0
      },
      "text/plain": [
       "Summarize dataset:   0%|          | 0/5 [00:00<?, ?it/s]"
      ]
     },
     "metadata": {},
     "output_type": "display_data"
    },
    {
     "data": {
      "application/vnd.jupyter.widget-view+json": {
       "model_id": "32f453b52c0f450f9b727fa1dcc24c3d",
       "version_major": 2,
       "version_minor": 0
      },
      "text/plain": [
       "Generate report structure:   0%|          | 0/1 [00:00<?, ?it/s]"
      ]
     },
     "metadata": {},
     "output_type": "display_data"
    },
    {
     "data": {
      "application/vnd.jupyter.widget-view+json": {
       "model_id": "8b08170581b341ddbcdacbbf88804f2b",
       "version_major": 2,
       "version_minor": 0
      },
      "text/plain": [
       "Render HTML:   0%|          | 0/1 [00:00<?, ?it/s]"
      ]
     },
     "metadata": {},
     "output_type": "display_data"
    },
    {
     "data": {
      "application/vnd.jupyter.widget-view+json": {
       "model_id": "51fba49569284c989f0ae380559ca759",
       "version_major": 2,
       "version_minor": 0
      },
      "text/plain": [
       "Export report to file:   0%|          | 0/1 [00:00<?, ?it/s]"
      ]
     },
     "metadata": {},
     "output_type": "display_data"
    }
   ],
   "source": [
    "#Importing the required package\n",
    "from ydata_profiling import ProfileReport\n",
    "\n",
    "#Generating the report using Pandas Profiling\n",
    "profile = ProfileReport(df, explorative=True)\n",
    "\n",
    "# Saving the report as an HTML file\n",
    "profile.to_file(\"insurance_report.html\")\n"
   ]
  },
  {
   "cell_type": "markdown",
   "metadata": {},
   "source": [
    "Click [**HERE**](https://gabrielcapela.github.io/health_insurance_cost_prediction/insurance_report.html) to see the report"
   ]
  },
  {
   "cell_type": "markdown",
   "metadata": {},
   "source": [
    "**Some observations** can already be made:\n",
    "\n",
    "*   The variables **sex**, **smoker** and **region** are categorical, the first two being binary and **region** having four different classes\n",
    "\n",
    "*   **Charges** is highly overall correlated with **age** and **smoker** \n",
    "\n",
    "*   **Children** has 574 (42.9%) zeros, but they are not missing values, they are just people without children.\n",
    "\n",
    "*   The **Smoker** variable has unbalanced data, around only 20% of the data are positive (smoker)."
   ]
  },
  {
   "cell_type": "markdown",
   "metadata": {},
   "source": [
    "# Data Preparation"
   ]
  },
  {
   "cell_type": "markdown",
   "metadata": {},
   "source": [
    "## About PyCaret"
   ]
  },
  {
   "cell_type": "markdown",
   "metadata": {},
   "source": [
    "**PyCaret** is a Python AutoML library that simplifies the process of building, testing, and optimizing machine learning models. It automates tasks such as model selection, hyperparameter tuning, and performance evaluation, making the workflow faster and more accessible.\n",
    "\n",
    "For more details, visit [PyCaret](https://pycaret.org)."
   ]
  },
  {
   "cell_type": "markdown",
   "metadata": {},
   "source": [
    "PyCaret already performs several steps of **data preprocessing automatically**, such as missing value treatment, categorical variable encoding, feature scaling, and outlier detection. Manual preprocessing can sometimes lead to better results, but we will stick to PyCaret’s built-in capabilities to **evaluate the efficiency of AutoM**L."
   ]
  },
  {
   "cell_type": "markdown",
   "metadata": {},
   "source": [
    "## Division of data"
   ]
  },
  {
   "cell_type": "markdown",
   "metadata": {},
   "source": [
    "Although PyCaret already automatically splits the data into training and testing data within the setup() function, choosing to **pre-separate a training set before** delivering it to AutoML can bring important benefits to the reliability and robustness of the model evaluation. One of the benefits, for example, is avoiding data leakage – If the model is optimized based on PyCaret's internal test set, it can indirectly \"learn\" patterns that it would not have in a real application.\n",
    "Having an external set for final validation – This allows a more realistic evaluation of the model's performance before putting it into production."
   ]
  },
  {
   "cell_type": "code",
   "execution_count": 113,
   "metadata": {},
   "outputs": [
    {
     "name": "stdout",
     "output_type": "stream",
     "text": [
      "(268, 7)\n",
      "(1070, 7)\n"
     ]
    }
   ],
   "source": [
    "# Separating data into test and training\n",
    "test = df.sample(frac=0.20)\n",
    "train = df.drop(test.index)\n",
    "\n",
    "test.reset_index(inplace=True, drop=True)\n",
    "train.reset_index(inplace=True, drop=True)\n",
    "\n",
    "print(test.shape)\n",
    "print(train.shape)"
   ]
  },
  {
   "cell_type": "markdown",
   "metadata": {},
   "source": [
    "# Modeling"
   ]
  },
  {
   "cell_type": "code",
   "execution_count": 114,
   "metadata": {},
   "outputs": [],
   "source": [
    "# Importing the necessary packages\n",
    "from pycaret.regression import setup, compare_models, models, create_model, predict_model\n",
    "from pycaret.regression import tune_model, plot_model, evaluate_model, finalize_model\n",
    "from pycaret.regression import save_model, load_model"
   ]
  },
  {
   "cell_type": "markdown",
   "metadata": {},
   "source": [
    "## Defining the setup"
   ]
  },
  {
   "cell_type": "markdown",
   "metadata": {},
   "source": [
    "PyCaret's setup() is the main function for initializing a machine learning experiment. It prepares the data, sets up the pipeline configuration, and applies preprocessing automatically."
   ]
  },
  {
   "cell_type": "code",
   "execution_count": 115,
   "metadata": {},
   "outputs": [
    {
     "data": {
      "text/html": [
       "<style type=\"text/css\">\n",
       "#T_484d9_row9_col1 {\n",
       "  background-color: lightgreen;\n",
       "}\n",
       "</style>\n",
       "<table id=\"T_484d9\">\n",
       "  <thead>\n",
       "    <tr>\n",
       "      <th class=\"blank level0\" >&nbsp;</th>\n",
       "      <th id=\"T_484d9_level0_col0\" class=\"col_heading level0 col0\" >Description</th>\n",
       "      <th id=\"T_484d9_level0_col1\" class=\"col_heading level0 col1\" >Value</th>\n",
       "    </tr>\n",
       "  </thead>\n",
       "  <tbody>\n",
       "    <tr>\n",
       "      <th id=\"T_484d9_level0_row0\" class=\"row_heading level0 row0\" >0</th>\n",
       "      <td id=\"T_484d9_row0_col0\" class=\"data row0 col0\" >Session id</td>\n",
       "      <td id=\"T_484d9_row0_col1\" class=\"data row0 col1\" >7601</td>\n",
       "    </tr>\n",
       "    <tr>\n",
       "      <th id=\"T_484d9_level0_row1\" class=\"row_heading level0 row1\" >1</th>\n",
       "      <td id=\"T_484d9_row1_col0\" class=\"data row1 col0\" >Target</td>\n",
       "      <td id=\"T_484d9_row1_col1\" class=\"data row1 col1\" >charges</td>\n",
       "    </tr>\n",
       "    <tr>\n",
       "      <th id=\"T_484d9_level0_row2\" class=\"row_heading level0 row2\" >2</th>\n",
       "      <td id=\"T_484d9_row2_col0\" class=\"data row2 col0\" >Target type</td>\n",
       "      <td id=\"T_484d9_row2_col1\" class=\"data row2 col1\" >Regression</td>\n",
       "    </tr>\n",
       "    <tr>\n",
       "      <th id=\"T_484d9_level0_row3\" class=\"row_heading level0 row3\" >3</th>\n",
       "      <td id=\"T_484d9_row3_col0\" class=\"data row3 col0\" >Original data shape</td>\n",
       "      <td id=\"T_484d9_row3_col1\" class=\"data row3 col1\" >(1070, 7)</td>\n",
       "    </tr>\n",
       "    <tr>\n",
       "      <th id=\"T_484d9_level0_row4\" class=\"row_heading level0 row4\" >4</th>\n",
       "      <td id=\"T_484d9_row4_col0\" class=\"data row4 col0\" >Transformed data shape</td>\n",
       "      <td id=\"T_484d9_row4_col1\" class=\"data row4 col1\" >(1070, 10)</td>\n",
       "    </tr>\n",
       "    <tr>\n",
       "      <th id=\"T_484d9_level0_row5\" class=\"row_heading level0 row5\" >5</th>\n",
       "      <td id=\"T_484d9_row5_col0\" class=\"data row5 col0\" >Transformed train set shape</td>\n",
       "      <td id=\"T_484d9_row5_col1\" class=\"data row5 col1\" >(749, 10)</td>\n",
       "    </tr>\n",
       "    <tr>\n",
       "      <th id=\"T_484d9_level0_row6\" class=\"row_heading level0 row6\" >6</th>\n",
       "      <td id=\"T_484d9_row6_col0\" class=\"data row6 col0\" >Transformed test set shape</td>\n",
       "      <td id=\"T_484d9_row6_col1\" class=\"data row6 col1\" >(321, 10)</td>\n",
       "    </tr>\n",
       "    <tr>\n",
       "      <th id=\"T_484d9_level0_row7\" class=\"row_heading level0 row7\" >7</th>\n",
       "      <td id=\"T_484d9_row7_col0\" class=\"data row7 col0\" >Numeric features</td>\n",
       "      <td id=\"T_484d9_row7_col1\" class=\"data row7 col1\" >3</td>\n",
       "    </tr>\n",
       "    <tr>\n",
       "      <th id=\"T_484d9_level0_row8\" class=\"row_heading level0 row8\" >8</th>\n",
       "      <td id=\"T_484d9_row8_col0\" class=\"data row8 col0\" >Categorical features</td>\n",
       "      <td id=\"T_484d9_row8_col1\" class=\"data row8 col1\" >3</td>\n",
       "    </tr>\n",
       "    <tr>\n",
       "      <th id=\"T_484d9_level0_row9\" class=\"row_heading level0 row9\" >9</th>\n",
       "      <td id=\"T_484d9_row9_col0\" class=\"data row9 col0\" >Preprocess</td>\n",
       "      <td id=\"T_484d9_row9_col1\" class=\"data row9 col1\" >True</td>\n",
       "    </tr>\n",
       "    <tr>\n",
       "      <th id=\"T_484d9_level0_row10\" class=\"row_heading level0 row10\" >10</th>\n",
       "      <td id=\"T_484d9_row10_col0\" class=\"data row10 col0\" >Imputation type</td>\n",
       "      <td id=\"T_484d9_row10_col1\" class=\"data row10 col1\" >simple</td>\n",
       "    </tr>\n",
       "    <tr>\n",
       "      <th id=\"T_484d9_level0_row11\" class=\"row_heading level0 row11\" >11</th>\n",
       "      <td id=\"T_484d9_row11_col0\" class=\"data row11 col0\" >Numeric imputation</td>\n",
       "      <td id=\"T_484d9_row11_col1\" class=\"data row11 col1\" >mean</td>\n",
       "    </tr>\n",
       "    <tr>\n",
       "      <th id=\"T_484d9_level0_row12\" class=\"row_heading level0 row12\" >12</th>\n",
       "      <td id=\"T_484d9_row12_col0\" class=\"data row12 col0\" >Categorical imputation</td>\n",
       "      <td id=\"T_484d9_row12_col1\" class=\"data row12 col1\" >mode</td>\n",
       "    </tr>\n",
       "    <tr>\n",
       "      <th id=\"T_484d9_level0_row13\" class=\"row_heading level0 row13\" >13</th>\n",
       "      <td id=\"T_484d9_row13_col0\" class=\"data row13 col0\" >Maximum one-hot encoding</td>\n",
       "      <td id=\"T_484d9_row13_col1\" class=\"data row13 col1\" >25</td>\n",
       "    </tr>\n",
       "    <tr>\n",
       "      <th id=\"T_484d9_level0_row14\" class=\"row_heading level0 row14\" >14</th>\n",
       "      <td id=\"T_484d9_row14_col0\" class=\"data row14 col0\" >Encoding method</td>\n",
       "      <td id=\"T_484d9_row14_col1\" class=\"data row14 col1\" >None</td>\n",
       "    </tr>\n",
       "    <tr>\n",
       "      <th id=\"T_484d9_level0_row15\" class=\"row_heading level0 row15\" >15</th>\n",
       "      <td id=\"T_484d9_row15_col0\" class=\"data row15 col0\" >Fold Generator</td>\n",
       "      <td id=\"T_484d9_row15_col1\" class=\"data row15 col1\" >KFold</td>\n",
       "    </tr>\n",
       "    <tr>\n",
       "      <th id=\"T_484d9_level0_row16\" class=\"row_heading level0 row16\" >16</th>\n",
       "      <td id=\"T_484d9_row16_col0\" class=\"data row16 col0\" >Fold Number</td>\n",
       "      <td id=\"T_484d9_row16_col1\" class=\"data row16 col1\" >10</td>\n",
       "    </tr>\n",
       "    <tr>\n",
       "      <th id=\"T_484d9_level0_row17\" class=\"row_heading level0 row17\" >17</th>\n",
       "      <td id=\"T_484d9_row17_col0\" class=\"data row17 col0\" >CPU Jobs</td>\n",
       "      <td id=\"T_484d9_row17_col1\" class=\"data row17 col1\" >-1</td>\n",
       "    </tr>\n",
       "    <tr>\n",
       "      <th id=\"T_484d9_level0_row18\" class=\"row_heading level0 row18\" >18</th>\n",
       "      <td id=\"T_484d9_row18_col0\" class=\"data row18 col0\" >Use GPU</td>\n",
       "      <td id=\"T_484d9_row18_col1\" class=\"data row18 col1\" >False</td>\n",
       "    </tr>\n",
       "    <tr>\n",
       "      <th id=\"T_484d9_level0_row19\" class=\"row_heading level0 row19\" >19</th>\n",
       "      <td id=\"T_484d9_row19_col0\" class=\"data row19 col0\" >Log Experiment</td>\n",
       "      <td id=\"T_484d9_row19_col1\" class=\"data row19 col1\" >False</td>\n",
       "    </tr>\n",
       "    <tr>\n",
       "      <th id=\"T_484d9_level0_row20\" class=\"row_heading level0 row20\" >20</th>\n",
       "      <td id=\"T_484d9_row20_col0\" class=\"data row20 col0\" >Experiment Name</td>\n",
       "      <td id=\"T_484d9_row20_col1\" class=\"data row20 col1\" >reg-default-name</td>\n",
       "    </tr>\n",
       "    <tr>\n",
       "      <th id=\"T_484d9_level0_row21\" class=\"row_heading level0 row21\" >21</th>\n",
       "      <td id=\"T_484d9_row21_col0\" class=\"data row21 col0\" >USI</td>\n",
       "      <td id=\"T_484d9_row21_col1\" class=\"data row21 col1\" >fbb4</td>\n",
       "    </tr>\n",
       "  </tbody>\n",
       "</table>\n"
      ],
      "text/plain": [
       "<pandas.io.formats.style.Styler at 0x12c211e80>"
      ]
     },
     "metadata": {},
     "output_type": "display_data"
    }
   ],
   "source": [
    "# Creating the PyCaret setup\n",
    "reg = setup(data=train, target='charges')"
   ]
  },
  {
   "cell_type": "markdown",
   "metadata": {},
   "source": [
    "## Creating the pipeline\n"
   ]
  },
  {
   "cell_type": "markdown",
   "metadata": {},
   "source": [
    "The pipeline is an **automated preprocessing and modeling workflow** that ensures that all transformations applied to the training data are replicated on the test data and new predictions.\n",
    "\n",
    "When we call setup(), PyCaret creates a pipeline that includes steps such as missing value handling, categorical variable encoding, normalization, outlier removal, and feature selection. This pipeline is automatically applied to all trained models, ensuring consistency and **eliminating the need to repeat these steps manually**."
   ]
  },
  {
   "cell_type": "code",
   "execution_count": 116,
   "metadata": {},
   "outputs": [
    {
     "data": {
      "text/html": [
       "<style type=\"text/css\">\n",
       "#T_04db2_row9_col1, #T_04db2_row15_col1 {\n",
       "  background-color: lightgreen;\n",
       "}\n",
       "</style>\n",
       "<table id=\"T_04db2\">\n",
       "  <thead>\n",
       "    <tr>\n",
       "      <th class=\"blank level0\" >&nbsp;</th>\n",
       "      <th id=\"T_04db2_level0_col0\" class=\"col_heading level0 col0\" >Description</th>\n",
       "      <th id=\"T_04db2_level0_col1\" class=\"col_heading level0 col1\" >Value</th>\n",
       "    </tr>\n",
       "  </thead>\n",
       "  <tbody>\n",
       "    <tr>\n",
       "      <th id=\"T_04db2_level0_row0\" class=\"row_heading level0 row0\" >0</th>\n",
       "      <td id=\"T_04db2_row0_col0\" class=\"data row0 col0\" >Session id</td>\n",
       "      <td id=\"T_04db2_row0_col1\" class=\"data row0 col1\" >6253</td>\n",
       "    </tr>\n",
       "    <tr>\n",
       "      <th id=\"T_04db2_level0_row1\" class=\"row_heading level0 row1\" >1</th>\n",
       "      <td id=\"T_04db2_row1_col0\" class=\"data row1 col0\" >Target</td>\n",
       "      <td id=\"T_04db2_row1_col1\" class=\"data row1 col1\" >charges</td>\n",
       "    </tr>\n",
       "    <tr>\n",
       "      <th id=\"T_04db2_level0_row2\" class=\"row_heading level0 row2\" >2</th>\n",
       "      <td id=\"T_04db2_row2_col0\" class=\"data row2 col0\" >Target type</td>\n",
       "      <td id=\"T_04db2_row2_col1\" class=\"data row2 col1\" >Regression</td>\n",
       "    </tr>\n",
       "    <tr>\n",
       "      <th id=\"T_04db2_level0_row3\" class=\"row_heading level0 row3\" >3</th>\n",
       "      <td id=\"T_04db2_row3_col0\" class=\"data row3 col0\" >Original data shape</td>\n",
       "      <td id=\"T_04db2_row3_col1\" class=\"data row3 col1\" >(1070, 7)</td>\n",
       "    </tr>\n",
       "    <tr>\n",
       "      <th id=\"T_04db2_level0_row4\" class=\"row_heading level0 row4\" >4</th>\n",
       "      <td id=\"T_04db2_row4_col0\" class=\"data row4 col0\" >Transformed data shape</td>\n",
       "      <td id=\"T_04db2_row4_col1\" class=\"data row4 col1\" >(1070, 10)</td>\n",
       "    </tr>\n",
       "    <tr>\n",
       "      <th id=\"T_04db2_level0_row5\" class=\"row_heading level0 row5\" >5</th>\n",
       "      <td id=\"T_04db2_row5_col0\" class=\"data row5 col0\" >Transformed train set shape</td>\n",
       "      <td id=\"T_04db2_row5_col1\" class=\"data row5 col1\" >(749, 10)</td>\n",
       "    </tr>\n",
       "    <tr>\n",
       "      <th id=\"T_04db2_level0_row6\" class=\"row_heading level0 row6\" >6</th>\n",
       "      <td id=\"T_04db2_row6_col0\" class=\"data row6 col0\" >Transformed test set shape</td>\n",
       "      <td id=\"T_04db2_row6_col1\" class=\"data row6 col1\" >(321, 10)</td>\n",
       "    </tr>\n",
       "    <tr>\n",
       "      <th id=\"T_04db2_level0_row7\" class=\"row_heading level0 row7\" >7</th>\n",
       "      <td id=\"T_04db2_row7_col0\" class=\"data row7 col0\" >Numeric features</td>\n",
       "      <td id=\"T_04db2_row7_col1\" class=\"data row7 col1\" >3</td>\n",
       "    </tr>\n",
       "    <tr>\n",
       "      <th id=\"T_04db2_level0_row8\" class=\"row_heading level0 row8\" >8</th>\n",
       "      <td id=\"T_04db2_row8_col0\" class=\"data row8 col0\" >Categorical features</td>\n",
       "      <td id=\"T_04db2_row8_col1\" class=\"data row8 col1\" >3</td>\n",
       "    </tr>\n",
       "    <tr>\n",
       "      <th id=\"T_04db2_level0_row9\" class=\"row_heading level0 row9\" >9</th>\n",
       "      <td id=\"T_04db2_row9_col0\" class=\"data row9 col0\" >Preprocess</td>\n",
       "      <td id=\"T_04db2_row9_col1\" class=\"data row9 col1\" >True</td>\n",
       "    </tr>\n",
       "    <tr>\n",
       "      <th id=\"T_04db2_level0_row10\" class=\"row_heading level0 row10\" >10</th>\n",
       "      <td id=\"T_04db2_row10_col0\" class=\"data row10 col0\" >Imputation type</td>\n",
       "      <td id=\"T_04db2_row10_col1\" class=\"data row10 col1\" >simple</td>\n",
       "    </tr>\n",
       "    <tr>\n",
       "      <th id=\"T_04db2_level0_row11\" class=\"row_heading level0 row11\" >11</th>\n",
       "      <td id=\"T_04db2_row11_col0\" class=\"data row11 col0\" >Numeric imputation</td>\n",
       "      <td id=\"T_04db2_row11_col1\" class=\"data row11 col1\" >mean</td>\n",
       "    </tr>\n",
       "    <tr>\n",
       "      <th id=\"T_04db2_level0_row12\" class=\"row_heading level0 row12\" >12</th>\n",
       "      <td id=\"T_04db2_row12_col0\" class=\"data row12 col0\" >Categorical imputation</td>\n",
       "      <td id=\"T_04db2_row12_col1\" class=\"data row12 col1\" >mode</td>\n",
       "    </tr>\n",
       "    <tr>\n",
       "      <th id=\"T_04db2_level0_row13\" class=\"row_heading level0 row13\" >13</th>\n",
       "      <td id=\"T_04db2_row13_col0\" class=\"data row13 col0\" >Maximum one-hot encoding</td>\n",
       "      <td id=\"T_04db2_row13_col1\" class=\"data row13 col1\" >25</td>\n",
       "    </tr>\n",
       "    <tr>\n",
       "      <th id=\"T_04db2_level0_row14\" class=\"row_heading level0 row14\" >14</th>\n",
       "      <td id=\"T_04db2_row14_col0\" class=\"data row14 col0\" >Encoding method</td>\n",
       "      <td id=\"T_04db2_row14_col1\" class=\"data row14 col1\" >None</td>\n",
       "    </tr>\n",
       "    <tr>\n",
       "      <th id=\"T_04db2_level0_row15\" class=\"row_heading level0 row15\" >15</th>\n",
       "      <td id=\"T_04db2_row15_col0\" class=\"data row15 col0\" >Normalize</td>\n",
       "      <td id=\"T_04db2_row15_col1\" class=\"data row15 col1\" >True</td>\n",
       "    </tr>\n",
       "    <tr>\n",
       "      <th id=\"T_04db2_level0_row16\" class=\"row_heading level0 row16\" >16</th>\n",
       "      <td id=\"T_04db2_row16_col0\" class=\"data row16 col0\" >Normalize method</td>\n",
       "      <td id=\"T_04db2_row16_col1\" class=\"data row16 col1\" >zscore</td>\n",
       "    </tr>\n",
       "    <tr>\n",
       "      <th id=\"T_04db2_level0_row17\" class=\"row_heading level0 row17\" >17</th>\n",
       "      <td id=\"T_04db2_row17_col0\" class=\"data row17 col0\" >Fold Generator</td>\n",
       "      <td id=\"T_04db2_row17_col1\" class=\"data row17 col1\" >KFold</td>\n",
       "    </tr>\n",
       "    <tr>\n",
       "      <th id=\"T_04db2_level0_row18\" class=\"row_heading level0 row18\" >18</th>\n",
       "      <td id=\"T_04db2_row18_col0\" class=\"data row18 col0\" >Fold Number</td>\n",
       "      <td id=\"T_04db2_row18_col1\" class=\"data row18 col1\" >10</td>\n",
       "    </tr>\n",
       "    <tr>\n",
       "      <th id=\"T_04db2_level0_row19\" class=\"row_heading level0 row19\" >19</th>\n",
       "      <td id=\"T_04db2_row19_col0\" class=\"data row19 col0\" >CPU Jobs</td>\n",
       "      <td id=\"T_04db2_row19_col1\" class=\"data row19 col1\" >-1</td>\n",
       "    </tr>\n",
       "    <tr>\n",
       "      <th id=\"T_04db2_level0_row20\" class=\"row_heading level0 row20\" >20</th>\n",
       "      <td id=\"T_04db2_row20_col0\" class=\"data row20 col0\" >Use GPU</td>\n",
       "      <td id=\"T_04db2_row20_col1\" class=\"data row20 col1\" >False</td>\n",
       "    </tr>\n",
       "    <tr>\n",
       "      <th id=\"T_04db2_level0_row21\" class=\"row_heading level0 row21\" >21</th>\n",
       "      <td id=\"T_04db2_row21_col0\" class=\"data row21 col0\" >Log Experiment</td>\n",
       "      <td id=\"T_04db2_row21_col1\" class=\"data row21 col1\" >False</td>\n",
       "    </tr>\n",
       "    <tr>\n",
       "      <th id=\"T_04db2_level0_row22\" class=\"row_heading level0 row22\" >22</th>\n",
       "      <td id=\"T_04db2_row22_col0\" class=\"data row22 col0\" >Experiment Name</td>\n",
       "      <td id=\"T_04db2_row22_col1\" class=\"data row22 col1\" >test_01</td>\n",
       "    </tr>\n",
       "    <tr>\n",
       "      <th id=\"T_04db2_level0_row23\" class=\"row_heading level0 row23\" >23</th>\n",
       "      <td id=\"T_04db2_row23_col0\" class=\"data row23 col0\" >USI</td>\n",
       "      <td id=\"T_04db2_row23_col1\" class=\"data row23 col1\" >83eb</td>\n",
       "    </tr>\n",
       "  </tbody>\n",
       "</table>\n"
      ],
      "text/plain": [
       "<pandas.io.formats.style.Styler at 0x130ffe0d0>"
      ]
     },
     "metadata": {},
     "output_type": "display_data"
    }
   ],
   "source": [
    "# Creating the pipeline\n",
    "reg = setup(data = train,\n",
    "            target = 'charges',\n",
    "            normalize = True,\n",
    "            #log_experiment = True,\n",
    "            experiment_name = 'test_01')"
   ]
  },
  {
   "cell_type": "markdown",
   "metadata": {},
   "source": [
    "## Comparing the models"
   ]
  },
  {
   "cell_type": "markdown",
   "metadata": {},
   "source": [
    "PyCaret's **compare_models()** function automatically evaluates multiple regression models and compares them based on performance metrics. It uses **10-fold cross-validation** (fold=10), ensuring a more robust evaluation by splitting the training data into 10 parts and averaging the results.\n",
    "\n",
    "By default, models are evaluated using the following metrics:\n",
    "\n",
    "*   R2 (Coefficient of Determination)\n",
    "*   RMSE (Root Mean Squared Error)\n",
    "*   MAE (Mean Absolute Error)\n",
    "*   MSE (Mean Squared Error)\n",
    "*   RMSLE (Root Mean Squared Log Error)\n",
    "*   MAPE (Mean Absolute Percentage Error)\n",
    "\n",
    "This function allows you to quickly identify the most promising model without having to train each one manually."
   ]
  },
  {
   "cell_type": "code",
   "execution_count": 135,
   "metadata": {},
   "outputs": [
    {
     "data": {
      "text/html": [],
      "text/plain": [
       "<IPython.core.display.HTML object>"
      ]
     },
     "metadata": {},
     "output_type": "display_data"
    },
    {
     "data": {
      "text/html": [
       "<style type=\"text/css\">\n",
       "#T_6ada5 th {\n",
       "  text-align: left;\n",
       "}\n",
       "#T_6ada5_row0_col0, #T_6ada5_row0_col6, #T_6ada5_row1_col0, #T_6ada5_row1_col1, #T_6ada5_row1_col2, #T_6ada5_row1_col3, #T_6ada5_row1_col4, #T_6ada5_row1_col5, #T_6ada5_row1_col6, #T_6ada5_row2_col0, #T_6ada5_row2_col1, #T_6ada5_row2_col2, #T_6ada5_row2_col3, #T_6ada5_row2_col4, #T_6ada5_row2_col5, #T_6ada5_row2_col6, #T_6ada5_row3_col0, #T_6ada5_row3_col1, #T_6ada5_row3_col2, #T_6ada5_row3_col3, #T_6ada5_row3_col4, #T_6ada5_row3_col5, #T_6ada5_row3_col6, #T_6ada5_row4_col0, #T_6ada5_row4_col1, #T_6ada5_row4_col2, #T_6ada5_row4_col3, #T_6ada5_row4_col4, #T_6ada5_row4_col5, #T_6ada5_row4_col6, #T_6ada5_row5_col0, #T_6ada5_row5_col1, #T_6ada5_row5_col2, #T_6ada5_row5_col3, #T_6ada5_row5_col4, #T_6ada5_row5_col5, #T_6ada5_row5_col6, #T_6ada5_row6_col0, #T_6ada5_row6_col1, #T_6ada5_row6_col2, #T_6ada5_row6_col3, #T_6ada5_row6_col4, #T_6ada5_row6_col5, #T_6ada5_row6_col6, #T_6ada5_row7_col0, #T_6ada5_row7_col1, #T_6ada5_row7_col2, #T_6ada5_row7_col3, #T_6ada5_row7_col4, #T_6ada5_row7_col5, #T_6ada5_row7_col6, #T_6ada5_row8_col0, #T_6ada5_row8_col1, #T_6ada5_row8_col2, #T_6ada5_row8_col3, #T_6ada5_row8_col4, #T_6ada5_row8_col5, #T_6ada5_row8_col6, #T_6ada5_row9_col0, #T_6ada5_row9_col1, #T_6ada5_row9_col2, #T_6ada5_row9_col3, #T_6ada5_row9_col4, #T_6ada5_row9_col5, #T_6ada5_row9_col6, #T_6ada5_row10_col0, #T_6ada5_row10_col1, #T_6ada5_row10_col2, #T_6ada5_row10_col3, #T_6ada5_row10_col4, #T_6ada5_row10_col5, #T_6ada5_row10_col6, #T_6ada5_row11_col0, #T_6ada5_row11_col1, #T_6ada5_row11_col2, #T_6ada5_row11_col3, #T_6ada5_row11_col4, #T_6ada5_row11_col5, #T_6ada5_row11_col6, #T_6ada5_row12_col0, #T_6ada5_row12_col1, #T_6ada5_row12_col2, #T_6ada5_row12_col3, #T_6ada5_row12_col4, #T_6ada5_row12_col5, #T_6ada5_row12_col6, #T_6ada5_row13_col0, #T_6ada5_row13_col1, #T_6ada5_row13_col2, #T_6ada5_row13_col3, #T_6ada5_row13_col4, #T_6ada5_row13_col5, #T_6ada5_row13_col6, #T_6ada5_row14_col0, #T_6ada5_row14_col1, #T_6ada5_row14_col2, #T_6ada5_row14_col3, #T_6ada5_row14_col4, #T_6ada5_row14_col5, #T_6ada5_row14_col6, #T_6ada5_row15_col0, #T_6ada5_row15_col1, #T_6ada5_row15_col2, #T_6ada5_row15_col3, #T_6ada5_row15_col4, #T_6ada5_row15_col5, #T_6ada5_row15_col6, #T_6ada5_row16_col0, #T_6ada5_row16_col1, #T_6ada5_row16_col2, #T_6ada5_row16_col3, #T_6ada5_row16_col4, #T_6ada5_row16_col5, #T_6ada5_row17_col0, #T_6ada5_row17_col1, #T_6ada5_row17_col2, #T_6ada5_row17_col3, #T_6ada5_row17_col4, #T_6ada5_row17_col5, #T_6ada5_row17_col6 {\n",
       "  text-align: left;\n",
       "}\n",
       "#T_6ada5_row0_col1, #T_6ada5_row0_col2, #T_6ada5_row0_col3, #T_6ada5_row0_col4, #T_6ada5_row0_col5, #T_6ada5_row16_col6 {\n",
       "  text-align: left;\n",
       "  background-color: yellow;\n",
       "}\n",
       "#T_6ada5_row0_col7, #T_6ada5_row1_col7, #T_6ada5_row2_col7, #T_6ada5_row3_col7, #T_6ada5_row4_col7, #T_6ada5_row5_col7, #T_6ada5_row6_col7, #T_6ada5_row7_col7, #T_6ada5_row8_col7, #T_6ada5_row9_col7, #T_6ada5_row10_col7, #T_6ada5_row11_col7, #T_6ada5_row12_col7, #T_6ada5_row13_col7, #T_6ada5_row14_col7, #T_6ada5_row15_col7, #T_6ada5_row16_col7 {\n",
       "  text-align: left;\n",
       "  background-color: lightgrey;\n",
       "}\n",
       "#T_6ada5_row17_col7 {\n",
       "  text-align: left;\n",
       "  background-color: yellow;\n",
       "  background-color: lightgrey;\n",
       "}\n",
       "</style>\n",
       "<table id=\"T_6ada5\">\n",
       "  <thead>\n",
       "    <tr>\n",
       "      <th class=\"blank level0\" >&nbsp;</th>\n",
       "      <th id=\"T_6ada5_level0_col0\" class=\"col_heading level0 col0\" >Model</th>\n",
       "      <th id=\"T_6ada5_level0_col1\" class=\"col_heading level0 col1\" >MAE</th>\n",
       "      <th id=\"T_6ada5_level0_col2\" class=\"col_heading level0 col2\" >MSE</th>\n",
       "      <th id=\"T_6ada5_level0_col3\" class=\"col_heading level0 col3\" >RMSE</th>\n",
       "      <th id=\"T_6ada5_level0_col4\" class=\"col_heading level0 col4\" >R2</th>\n",
       "      <th id=\"T_6ada5_level0_col5\" class=\"col_heading level0 col5\" >RMSLE</th>\n",
       "      <th id=\"T_6ada5_level0_col6\" class=\"col_heading level0 col6\" >MAPE</th>\n",
       "      <th id=\"T_6ada5_level0_col7\" class=\"col_heading level0 col7\" >TT (Sec)</th>\n",
       "    </tr>\n",
       "  </thead>\n",
       "  <tbody>\n",
       "    <tr>\n",
       "      <th id=\"T_6ada5_level0_row0\" class=\"row_heading level0 row0\" >gbr</th>\n",
       "      <td id=\"T_6ada5_row0_col0\" class=\"data row0 col0\" >Gradient Boosting Regressor</td>\n",
       "      <td id=\"T_6ada5_row0_col1\" class=\"data row0 col1\" >2494.3084</td>\n",
       "      <td id=\"T_6ada5_row0_col2\" class=\"data row0 col2\" >20606071.3122</td>\n",
       "      <td id=\"T_6ada5_row0_col3\" class=\"data row0 col3\" >4459.9776</td>\n",
       "      <td id=\"T_6ada5_row0_col4\" class=\"data row0 col4\" >0.8458</td>\n",
       "      <td id=\"T_6ada5_row0_col5\" class=\"data row0 col5\" >0.4245</td>\n",
       "      <td id=\"T_6ada5_row0_col6\" class=\"data row0 col6\" >0.2880</td>\n",
       "      <td id=\"T_6ada5_row0_col7\" class=\"data row0 col7\" >0.1830</td>\n",
       "    </tr>\n",
       "    <tr>\n",
       "      <th id=\"T_6ada5_level0_row1\" class=\"row_heading level0 row1\" >rf</th>\n",
       "      <td id=\"T_6ada5_row1_col0\" class=\"data row1 col0\" >Random Forest Regressor</td>\n",
       "      <td id=\"T_6ada5_row1_col1\" class=\"data row1 col1\" >2643.5354</td>\n",
       "      <td id=\"T_6ada5_row1_col2\" class=\"data row1 col2\" >23043346.7037</td>\n",
       "      <td id=\"T_6ada5_row1_col3\" class=\"data row1 col3\" >4726.1899</td>\n",
       "      <td id=\"T_6ada5_row1_col4\" class=\"data row1 col4\" >0.8255</td>\n",
       "      <td id=\"T_6ada5_row1_col5\" class=\"data row1 col5\" >0.4571</td>\n",
       "      <td id=\"T_6ada5_row1_col6\" class=\"data row1 col6\" >0.3151</td>\n",
       "      <td id=\"T_6ada5_row1_col7\" class=\"data row1 col7\" >0.3110</td>\n",
       "    </tr>\n",
       "    <tr>\n",
       "      <th id=\"T_6ada5_level0_row2\" class=\"row_heading level0 row2\" >lightgbm</th>\n",
       "      <td id=\"T_6ada5_row2_col0\" class=\"data row2 col0\" >Light Gradient Boosting Machine</td>\n",
       "      <td id=\"T_6ada5_row2_col1\" class=\"data row2 col1\" >2839.1794</td>\n",
       "      <td id=\"T_6ada5_row2_col2\" class=\"data row2 col2\" >23973797.8786</td>\n",
       "      <td id=\"T_6ada5_row2_col3\" class=\"data row2 col3\" >4823.7448</td>\n",
       "      <td id=\"T_6ada5_row2_col4\" class=\"data row2 col4\" >0.8204</td>\n",
       "      <td id=\"T_6ada5_row2_col5\" class=\"data row2 col5\" >0.5623</td>\n",
       "      <td id=\"T_6ada5_row2_col6\" class=\"data row2 col6\" >0.3551</td>\n",
       "      <td id=\"T_6ada5_row2_col7\" class=\"data row2 col7\" >0.3870</td>\n",
       "    </tr>\n",
       "    <tr>\n",
       "      <th id=\"T_6ada5_level0_row3\" class=\"row_heading level0 row3\" >et</th>\n",
       "      <td id=\"T_6ada5_row3_col0\" class=\"data row3 col0\" >Extra Trees Regressor</td>\n",
       "      <td id=\"T_6ada5_row3_col1\" class=\"data row3 col1\" >2656.9173</td>\n",
       "      <td id=\"T_6ada5_row3_col2\" class=\"data row3 col2\" >25964641.1990</td>\n",
       "      <td id=\"T_6ada5_row3_col3\" class=\"data row3 col3\" >5027.3925</td>\n",
       "      <td id=\"T_6ada5_row3_col4\" class=\"data row3 col4\" >0.8038</td>\n",
       "      <td id=\"T_6ada5_row3_col5\" class=\"data row3 col5\" >0.4768</td>\n",
       "      <td id=\"T_6ada5_row3_col6\" class=\"data row3 col6\" >0.3224</td>\n",
       "      <td id=\"T_6ada5_row3_col7\" class=\"data row3 col7\" >0.2650</td>\n",
       "    </tr>\n",
       "    <tr>\n",
       "      <th id=\"T_6ada5_level0_row4\" class=\"row_heading level0 row4\" >ada</th>\n",
       "      <td id=\"T_6ada5_row4_col0\" class=\"data row4 col0\" >AdaBoost Regressor</td>\n",
       "      <td id=\"T_6ada5_row4_col1\" class=\"data row4 col1\" >4170.5466</td>\n",
       "      <td id=\"T_6ada5_row4_col2\" class=\"data row4 col2\" >27448761.4954</td>\n",
       "      <td id=\"T_6ada5_row4_col3\" class=\"data row4 col3\" >5207.6281</td>\n",
       "      <td id=\"T_6ada5_row4_col4\" class=\"data row4 col4\" >0.7908</td>\n",
       "      <td id=\"T_6ada5_row4_col5\" class=\"data row4 col5\" >0.6123</td>\n",
       "      <td id=\"T_6ada5_row4_col6\" class=\"data row4 col6\" >0.7010</td>\n",
       "      <td id=\"T_6ada5_row4_col7\" class=\"data row4 col7\" >0.1000</td>\n",
       "    </tr>\n",
       "    <tr>\n",
       "      <th id=\"T_6ada5_level0_row5\" class=\"row_heading level0 row5\" >knn</th>\n",
       "      <td id=\"T_6ada5_row5_col0\" class=\"data row5 col0\" >K Neighbors Regressor</td>\n",
       "      <td id=\"T_6ada5_row5_col1\" class=\"data row5 col1\" >3434.3103</td>\n",
       "      <td id=\"T_6ada5_row5_col2\" class=\"data row5 col2\" >30726879.2000</td>\n",
       "      <td id=\"T_6ada5_row5_col3\" class=\"data row5 col3\" >5525.4110</td>\n",
       "      <td id=\"T_6ada5_row5_col4\" class=\"data row5 col4\" >0.7630</td>\n",
       "      <td id=\"T_6ada5_row5_col5\" class=\"data row5 col5\" >0.4859</td>\n",
       "      <td id=\"T_6ada5_row5_col6\" class=\"data row5 col6\" >0.3695</td>\n",
       "      <td id=\"T_6ada5_row5_col7\" class=\"data row5 col7\" >0.0970</td>\n",
       "    </tr>\n",
       "    <tr>\n",
       "      <th id=\"T_6ada5_level0_row6\" class=\"row_heading level0 row6\" >br</th>\n",
       "      <td id=\"T_6ada5_row6_col0\" class=\"data row6 col0\" >Bayesian Ridge</td>\n",
       "      <td id=\"T_6ada5_row6_col1\" class=\"data row6 col1\" >4307.5300</td>\n",
       "      <td id=\"T_6ada5_row6_col2\" class=\"data row6 col2\" >38105732.7398</td>\n",
       "      <td id=\"T_6ada5_row6_col3\" class=\"data row6 col3\" >6151.5977</td>\n",
       "      <td id=\"T_6ada5_row6_col4\" class=\"data row6 col4\" >0.7158</td>\n",
       "      <td id=\"T_6ada5_row6_col5\" class=\"data row6 col5\" >0.5525</td>\n",
       "      <td id=\"T_6ada5_row6_col6\" class=\"data row6 col6\" >0.4358</td>\n",
       "      <td id=\"T_6ada5_row6_col7\" class=\"data row6 col7\" >0.1270</td>\n",
       "    </tr>\n",
       "    <tr>\n",
       "      <th id=\"T_6ada5_level0_row7\" class=\"row_heading level0 row7\" >ridge</th>\n",
       "      <td id=\"T_6ada5_row7_col0\" class=\"data row7 col0\" >Ridge Regression</td>\n",
       "      <td id=\"T_6ada5_row7_col1\" class=\"data row7 col1\" >4305.4790</td>\n",
       "      <td id=\"T_6ada5_row7_col2\" class=\"data row7 col2\" >38106179.9403</td>\n",
       "      <td id=\"T_6ada5_row7_col3\" class=\"data row7 col3\" >6151.8287</td>\n",
       "      <td id=\"T_6ada5_row7_col4\" class=\"data row7 col4\" >0.7157</td>\n",
       "      <td id=\"T_6ada5_row7_col5\" class=\"data row7 col5\" >0.5510</td>\n",
       "      <td id=\"T_6ada5_row7_col6\" class=\"data row7 col6\" >0.4353</td>\n",
       "      <td id=\"T_6ada5_row7_col7\" class=\"data row7 col7\" >0.0800</td>\n",
       "    </tr>\n",
       "    <tr>\n",
       "      <th id=\"T_6ada5_level0_row8\" class=\"row_heading level0 row8\" >llar</th>\n",
       "      <td id=\"T_6ada5_row8_col0\" class=\"data row8 col0\" >Lasso Least Angle Regression</td>\n",
       "      <td id=\"T_6ada5_row8_col1\" class=\"data row8 col1\" >4304.1731</td>\n",
       "      <td id=\"T_6ada5_row8_col2\" class=\"data row8 col2\" >38106848.9015</td>\n",
       "      <td id=\"T_6ada5_row8_col3\" class=\"data row8 col3\" >6151.9776</td>\n",
       "      <td id=\"T_6ada5_row8_col4\" class=\"data row8 col4\" >0.7157</td>\n",
       "      <td id=\"T_6ada5_row8_col5\" class=\"data row8 col5\" >0.5509</td>\n",
       "      <td id=\"T_6ada5_row8_col6\" class=\"data row8 col6\" >0.4349</td>\n",
       "      <td id=\"T_6ada5_row8_col7\" class=\"data row8 col7\" >0.0810</td>\n",
       "    </tr>\n",
       "    <tr>\n",
       "      <th id=\"T_6ada5_level0_row9\" class=\"row_heading level0 row9\" >lar</th>\n",
       "      <td id=\"T_6ada5_row9_col0\" class=\"data row9 col0\" >Least Angle Regression</td>\n",
       "      <td id=\"T_6ada5_row9_col1\" class=\"data row9 col1\" >4304.3603</td>\n",
       "      <td id=\"T_6ada5_row9_col2\" class=\"data row9 col2\" >38107834.4706</td>\n",
       "      <td id=\"T_6ada5_row9_col3\" class=\"data row9 col3\" >6152.0693</td>\n",
       "      <td id=\"T_6ada5_row9_col4\" class=\"data row9 col4\" >0.7157</td>\n",
       "      <td id=\"T_6ada5_row9_col5\" class=\"data row9 col5\" >0.5509</td>\n",
       "      <td id=\"T_6ada5_row9_col6\" class=\"data row9 col6\" >0.4350</td>\n",
       "      <td id=\"T_6ada5_row9_col7\" class=\"data row9 col7\" >0.0920</td>\n",
       "    </tr>\n",
       "    <tr>\n",
       "      <th id=\"T_6ada5_level0_row10\" class=\"row_heading level0 row10\" >lasso</th>\n",
       "      <td id=\"T_6ada5_row10_col0\" class=\"data row10 col0\" >Lasso Regression</td>\n",
       "      <td id=\"T_6ada5_row10_col1\" class=\"data row10 col1\" >4304.1769</td>\n",
       "      <td id=\"T_6ada5_row10_col2\" class=\"data row10 col2\" >38106799.2402</td>\n",
       "      <td id=\"T_6ada5_row10_col3\" class=\"data row10 col3\" >6151.9742</td>\n",
       "      <td id=\"T_6ada5_row10_col4\" class=\"data row10 col4\" >0.7157</td>\n",
       "      <td id=\"T_6ada5_row10_col5\" class=\"data row10 col5\" >0.5509</td>\n",
       "      <td id=\"T_6ada5_row10_col6\" class=\"data row10 col6\" >0.4349</td>\n",
       "      <td id=\"T_6ada5_row10_col7\" class=\"data row10 col7\" >0.0830</td>\n",
       "    </tr>\n",
       "    <tr>\n",
       "      <th id=\"T_6ada5_level0_row11\" class=\"row_heading level0 row11\" >lr</th>\n",
       "      <td id=\"T_6ada5_row11_col0\" class=\"data row11 col0\" >Linear Regression</td>\n",
       "      <td id=\"T_6ada5_row11_col1\" class=\"data row11 col1\" >4307.9865</td>\n",
       "      <td id=\"T_6ada5_row11_col2\" class=\"data row11 col2\" >38091177.0623</td>\n",
       "      <td id=\"T_6ada5_row11_col3\" class=\"data row11 col3\" >6150.6872</td>\n",
       "      <td id=\"T_6ada5_row11_col4\" class=\"data row11 col4\" >0.7157</td>\n",
       "      <td id=\"T_6ada5_row11_col5\" class=\"data row11 col5\" >0.5472</td>\n",
       "      <td id=\"T_6ada5_row11_col6\" class=\"data row11 col6\" >0.4361</td>\n",
       "      <td id=\"T_6ada5_row11_col7\" class=\"data row11 col7\" >2.7790</td>\n",
       "    </tr>\n",
       "    <tr>\n",
       "      <th id=\"T_6ada5_level0_row12\" class=\"row_heading level0 row12\" >dt</th>\n",
       "      <td id=\"T_6ada5_row12_col0\" class=\"data row12 col0\" >Decision Tree Regressor</td>\n",
       "      <td id=\"T_6ada5_row12_col1\" class=\"data row12 col1\" >3302.2191</td>\n",
       "      <td id=\"T_6ada5_row12_col2\" class=\"data row12 col2\" >46056756.8773</td>\n",
       "      <td id=\"T_6ada5_row12_col3\" class=\"data row12 col3\" >6696.6454</td>\n",
       "      <td id=\"T_6ada5_row12_col4\" class=\"data row12 col4\" >0.6435</td>\n",
       "      <td id=\"T_6ada5_row12_col5\" class=\"data row12 col5\" >0.5639</td>\n",
       "      <td id=\"T_6ada5_row12_col6\" class=\"data row12 col6\" >0.4443</td>\n",
       "      <td id=\"T_6ada5_row12_col7\" class=\"data row12 col7\" >0.1030</td>\n",
       "    </tr>\n",
       "    <tr>\n",
       "      <th id=\"T_6ada5_level0_row13\" class=\"row_heading level0 row13\" >en</th>\n",
       "      <td id=\"T_6ada5_row13_col0\" class=\"data row13 col0\" >Elastic Net</td>\n",
       "      <td id=\"T_6ada5_row13_col1\" class=\"data row13 col1\" >5092.3661</td>\n",
       "      <td id=\"T_6ada5_row13_col2\" class=\"data row13 col2\" >49982136.6518</td>\n",
       "      <td id=\"T_6ada5_row13_col3\" class=\"data row13 col3\" >7009.0641</td>\n",
       "      <td id=\"T_6ada5_row13_col4\" class=\"data row13 col4\" >0.6409</td>\n",
       "      <td id=\"T_6ada5_row13_col5\" class=\"data row13 col5\" >0.6242</td>\n",
       "      <td id=\"T_6ada5_row13_col6\" class=\"data row13 col6\" >0.6971</td>\n",
       "      <td id=\"T_6ada5_row13_col7\" class=\"data row13 col7\" >0.1130</td>\n",
       "    </tr>\n",
       "    <tr>\n",
       "      <th id=\"T_6ada5_level0_row14\" class=\"row_heading level0 row14\" >huber</th>\n",
       "      <td id=\"T_6ada5_row14_col0\" class=\"data row14 col0\" >Huber Regressor</td>\n",
       "      <td id=\"T_6ada5_row14_col1\" class=\"data row14 col1\" >3864.6227</td>\n",
       "      <td id=\"T_6ada5_row14_col2\" class=\"data row14 col2\" >55840400.7939</td>\n",
       "      <td id=\"T_6ada5_row14_col3\" class=\"data row14 col3\" >7405.6929</td>\n",
       "      <td id=\"T_6ada5_row14_col4\" class=\"data row14 col4\" >0.5833</td>\n",
       "      <td id=\"T_6ada5_row14_col5\" class=\"data row14 col5\" >0.4713</td>\n",
       "      <td id=\"T_6ada5_row14_col6\" class=\"data row14 col6\" >0.2071</td>\n",
       "      <td id=\"T_6ada5_row14_col7\" class=\"data row14 col7\" >0.0910</td>\n",
       "    </tr>\n",
       "    <tr>\n",
       "      <th id=\"T_6ada5_level0_row15\" class=\"row_heading level0 row15\" >omp</th>\n",
       "      <td id=\"T_6ada5_row15_col0\" class=\"data row15 col0\" >Orthogonal Matching Pursuit</td>\n",
       "      <td id=\"T_6ada5_row15_col1\" class=\"data row15 col1\" >5761.4925</td>\n",
       "      <td id=\"T_6ada5_row15_col2\" class=\"data row15 col2\" >57288654.8304</td>\n",
       "      <td id=\"T_6ada5_row15_col3\" class=\"data row15 col3\" >7543.1627</td>\n",
       "      <td id=\"T_6ada5_row15_col4\" class=\"data row15 col4\" >0.5649</td>\n",
       "      <td id=\"T_6ada5_row15_col5\" class=\"data row15 col5\" >0.7171</td>\n",
       "      <td id=\"T_6ada5_row15_col6\" class=\"data row15 col6\" >0.8552</td>\n",
       "      <td id=\"T_6ada5_row15_col7\" class=\"data row15 col7\" >0.0820</td>\n",
       "    </tr>\n",
       "    <tr>\n",
       "      <th id=\"T_6ada5_level0_row16\" class=\"row_heading level0 row16\" >par</th>\n",
       "      <td id=\"T_6ada5_row16_col0\" class=\"data row16 col0\" >Passive Aggressive Regressor</td>\n",
       "      <td id=\"T_6ada5_row16_col1\" class=\"data row16 col1\" >3816.8956</td>\n",
       "      <td id=\"T_6ada5_row16_col2\" class=\"data row16 col2\" >59089200.2900</td>\n",
       "      <td id=\"T_6ada5_row16_col3\" class=\"data row16 col3\" >7628.3724</td>\n",
       "      <td id=\"T_6ada5_row16_col4\" class=\"data row16 col4\" >0.5599</td>\n",
       "      <td id=\"T_6ada5_row16_col5\" class=\"data row16 col5\" >0.4766</td>\n",
       "      <td id=\"T_6ada5_row16_col6\" class=\"data row16 col6\" >0.1990</td>\n",
       "      <td id=\"T_6ada5_row16_col7\" class=\"data row16 col7\" >0.0840</td>\n",
       "    </tr>\n",
       "    <tr>\n",
       "      <th id=\"T_6ada5_level0_row17\" class=\"row_heading level0 row17\" >dummy</th>\n",
       "      <td id=\"T_6ada5_row17_col0\" class=\"data row17 col0\" >Dummy Regressor</td>\n",
       "      <td id=\"T_6ada5_row17_col1\" class=\"data row17 col1\" >9002.0627</td>\n",
       "      <td id=\"T_6ada5_row17_col2\" class=\"data row17 col2\" >141471966.4000</td>\n",
       "      <td id=\"T_6ada5_row17_col3\" class=\"data row17 col3\" >11798.5766</td>\n",
       "      <td id=\"T_6ada5_row17_col4\" class=\"data row17 col4\" >-0.0166</td>\n",
       "      <td id=\"T_6ada5_row17_col5\" class=\"data row17 col5\" >0.9893</td>\n",
       "      <td id=\"T_6ada5_row17_col6\" class=\"data row17 col6\" >1.4950</td>\n",
       "      <td id=\"T_6ada5_row17_col7\" class=\"data row17 col7\" >0.0790</td>\n",
       "    </tr>\n",
       "  </tbody>\n",
       "</table>\n"
      ],
      "text/plain": [
       "<pandas.io.formats.style.Styler at 0x130853730>"
      ]
     },
     "metadata": {},
     "output_type": "display_data"
    },
    {
     "data": {
      "text/html": [],
      "text/plain": [
       "<IPython.core.display.HTML object>"
      ]
     },
     "metadata": {},
     "output_type": "display_data"
    }
   ],
   "source": [
    "import logging\n",
    "\n",
    "# Suppressing the log output from LightGBM and other libraries\n",
    "logging.getLogger(\"pycaret\").setLevel(logging.WARNING)\n",
    "logging.getLogger(\"lightgbm\").setLevel(logging.WARNING)\n",
    "\n",
    "# Now running compare_models\n",
    "best = compare_models()\n"
   ]
  },
  {
   "cell_type": "markdown",
   "metadata": {},
   "source": [
    "By default, the grid is arranged from R2 (highest to lowest)"
   ]
  },
  {
   "cell_type": "code",
   "execution_count": 136,
   "metadata": {},
   "outputs": [
    {
     "name": "stdout",
     "output_type": "stream",
     "text": [
      "GradientBoostingRegressor(random_state=6253)\n"
     ]
    }
   ],
   "source": [
    "# Checking the best model \n",
    "print(best)"
   ]
  },
  {
   "cell_type": "markdown",
   "metadata": {},
   "source": [
    "## Instantiating the model"
   ]
  },
  {
   "cell_type": "markdown",
   "metadata": {},
   "source": [
    "PyCaret's compare_models() function **does not train** a definitive model, it simply evaluates and compares different regression algorithms, displaying a grid with their performance metrics. To use a specific model, **you need to select and instantiate it manually** using the create_model() function.\n",
    "\n",
    "The chosen model is the **Gradient Boosting Regressor**, which is based on decision trees that **combine multiple weak estimators to create a stronger and more accurate model**. It works by training the trees sequentially, where each new tree learns to correct the errors of the previous ones, reducing the residual error of the model."
   ]
  },
  {
   "cell_type": "code",
   "execution_count": 137,
   "metadata": {},
   "outputs": [
    {
     "data": {
      "text/html": [],
      "text/plain": [
       "<IPython.core.display.HTML object>"
      ]
     },
     "metadata": {},
     "output_type": "display_data"
    },
    {
     "data": {
      "text/html": [
       "<style type=\"text/css\">\n",
       "#T_ae844_row10_col0, #T_ae844_row10_col1, #T_ae844_row10_col2, #T_ae844_row10_col3, #T_ae844_row10_col4, #T_ae844_row10_col5 {\n",
       "  background: yellow;\n",
       "}\n",
       "</style>\n",
       "<table id=\"T_ae844\">\n",
       "  <thead>\n",
       "    <tr>\n",
       "      <th class=\"blank level0\" >&nbsp;</th>\n",
       "      <th id=\"T_ae844_level0_col0\" class=\"col_heading level0 col0\" >MAE</th>\n",
       "      <th id=\"T_ae844_level0_col1\" class=\"col_heading level0 col1\" >MSE</th>\n",
       "      <th id=\"T_ae844_level0_col2\" class=\"col_heading level0 col2\" >RMSE</th>\n",
       "      <th id=\"T_ae844_level0_col3\" class=\"col_heading level0 col3\" >R2</th>\n",
       "      <th id=\"T_ae844_level0_col4\" class=\"col_heading level0 col4\" >RMSLE</th>\n",
       "      <th id=\"T_ae844_level0_col5\" class=\"col_heading level0 col5\" >MAPE</th>\n",
       "    </tr>\n",
       "    <tr>\n",
       "      <th class=\"index_name level0\" >Fold</th>\n",
       "      <th class=\"blank col0\" >&nbsp;</th>\n",
       "      <th class=\"blank col1\" >&nbsp;</th>\n",
       "      <th class=\"blank col2\" >&nbsp;</th>\n",
       "      <th class=\"blank col3\" >&nbsp;</th>\n",
       "      <th class=\"blank col4\" >&nbsp;</th>\n",
       "      <th class=\"blank col5\" >&nbsp;</th>\n",
       "    </tr>\n",
       "  </thead>\n",
       "  <tbody>\n",
       "    <tr>\n",
       "      <th id=\"T_ae844_level0_row0\" class=\"row_heading level0 row0\" >0</th>\n",
       "      <td id=\"T_ae844_row0_col0\" class=\"data row0 col0\" >2692.0808</td>\n",
       "      <td id=\"T_ae844_row0_col1\" class=\"data row0 col1\" >25258915.6574</td>\n",
       "      <td id=\"T_ae844_row0_col2\" class=\"data row0 col2\" >5025.8249</td>\n",
       "      <td id=\"T_ae844_row0_col3\" class=\"data row0 col3\" >0.8378</td>\n",
       "      <td id=\"T_ae844_row0_col4\" class=\"data row0 col4\" >0.4651</td>\n",
       "      <td id=\"T_ae844_row0_col5\" class=\"data row0 col5\" >0.2847</td>\n",
       "    </tr>\n",
       "    <tr>\n",
       "      <th id=\"T_ae844_level0_row1\" class=\"row_heading level0 row1\" >1</th>\n",
       "      <td id=\"T_ae844_row1_col0\" class=\"data row1 col0\" >2627.5565</td>\n",
       "      <td id=\"T_ae844_row1_col1\" class=\"data row1 col1\" >21212231.2786</td>\n",
       "      <td id=\"T_ae844_row1_col2\" class=\"data row1 col2\" >4605.6738</td>\n",
       "      <td id=\"T_ae844_row1_col3\" class=\"data row1 col3\" >0.8843</td>\n",
       "      <td id=\"T_ae844_row1_col4\" class=\"data row1 col4\" >0.3967</td>\n",
       "      <td id=\"T_ae844_row1_col5\" class=\"data row1 col5\" >0.2439</td>\n",
       "    </tr>\n",
       "    <tr>\n",
       "      <th id=\"T_ae844_level0_row2\" class=\"row_heading level0 row2\" >2</th>\n",
       "      <td id=\"T_ae844_row2_col0\" class=\"data row2 col0\" >2914.5591</td>\n",
       "      <td id=\"T_ae844_row2_col1\" class=\"data row2 col1\" >30823481.7479</td>\n",
       "      <td id=\"T_ae844_row2_col2\" class=\"data row2 col2\" >5551.8899</td>\n",
       "      <td id=\"T_ae844_row2_col3\" class=\"data row2 col3\" >0.8179</td>\n",
       "      <td id=\"T_ae844_row2_col4\" class=\"data row2 col4\" >0.4883</td>\n",
       "      <td id=\"T_ae844_row2_col5\" class=\"data row2 col5\" >0.3436</td>\n",
       "    </tr>\n",
       "    <tr>\n",
       "      <th id=\"T_ae844_level0_row3\" class=\"row_heading level0 row3\" >3</th>\n",
       "      <td id=\"T_ae844_row3_col0\" class=\"data row3 col0\" >1999.9408</td>\n",
       "      <td id=\"T_ae844_row3_col1\" class=\"data row3 col1\" >13476677.2338</td>\n",
       "      <td id=\"T_ae844_row3_col2\" class=\"data row3 col2\" >3671.0594</td>\n",
       "      <td id=\"T_ae844_row3_col3\" class=\"data row3 col3\" >0.9179</td>\n",
       "      <td id=\"T_ae844_row3_col4\" class=\"data row3 col4\" >0.3613</td>\n",
       "      <td id=\"T_ae844_row3_col5\" class=\"data row3 col5\" >0.2777</td>\n",
       "    </tr>\n",
       "    <tr>\n",
       "      <th id=\"T_ae844_level0_row4\" class=\"row_heading level0 row4\" >4</th>\n",
       "      <td id=\"T_ae844_row4_col0\" class=\"data row4 col0\" >3009.0081</td>\n",
       "      <td id=\"T_ae844_row4_col1\" class=\"data row4 col1\" >34314709.4011</td>\n",
       "      <td id=\"T_ae844_row4_col2\" class=\"data row4 col2\" >5857.8758</td>\n",
       "      <td id=\"T_ae844_row4_col3\" class=\"data row4 col3\" >0.6800</td>\n",
       "      <td id=\"T_ae844_row4_col4\" class=\"data row4 col4\" >0.5787</td>\n",
       "      <td id=\"T_ae844_row4_col5\" class=\"data row4 col5\" >0.2448</td>\n",
       "    </tr>\n",
       "    <tr>\n",
       "      <th id=\"T_ae844_level0_row5\" class=\"row_heading level0 row5\" >5</th>\n",
       "      <td id=\"T_ae844_row5_col0\" class=\"data row5 col0\" >2414.9851</td>\n",
       "      <td id=\"T_ae844_row5_col1\" class=\"data row5 col1\" >19645954.7801</td>\n",
       "      <td id=\"T_ae844_row5_col2\" class=\"data row5 col2\" >4432.3757</td>\n",
       "      <td id=\"T_ae844_row5_col3\" class=\"data row5 col3\" >0.8399</td>\n",
       "      <td id=\"T_ae844_row5_col4\" class=\"data row5 col4\" >0.4593</td>\n",
       "      <td id=\"T_ae844_row5_col5\" class=\"data row5 col5\" >0.3501</td>\n",
       "    </tr>\n",
       "    <tr>\n",
       "      <th id=\"T_ae844_level0_row6\" class=\"row_heading level0 row6\" >6</th>\n",
       "      <td id=\"T_ae844_row6_col0\" class=\"data row6 col0\" >2722.7516</td>\n",
       "      <td id=\"T_ae844_row6_col1\" class=\"data row6 col1\" >23964166.2875</td>\n",
       "      <td id=\"T_ae844_row6_col2\" class=\"data row6 col2\" >4895.3209</td>\n",
       "      <td id=\"T_ae844_row6_col3\" class=\"data row6 col3\" >0.8103</td>\n",
       "      <td id=\"T_ae844_row6_col4\" class=\"data row6 col4\" >0.4066</td>\n",
       "      <td id=\"T_ae844_row6_col5\" class=\"data row6 col5\" >0.3088</td>\n",
       "    </tr>\n",
       "    <tr>\n",
       "      <th id=\"T_ae844_level0_row7\" class=\"row_heading level0 row7\" >7</th>\n",
       "      <td id=\"T_ae844_row7_col0\" class=\"data row7 col0\" >2502.4707</td>\n",
       "      <td id=\"T_ae844_row7_col1\" class=\"data row7 col1\" >15051773.0486</td>\n",
       "      <td id=\"T_ae844_row7_col2\" class=\"data row7 col2\" >3879.6615</td>\n",
       "      <td id=\"T_ae844_row7_col3\" class=\"data row7 col3\" >0.9180</td>\n",
       "      <td id=\"T_ae844_row7_col4\" class=\"data row7 col4\" >0.3691</td>\n",
       "      <td id=\"T_ae844_row7_col5\" class=\"data row7 col5\" >0.3014</td>\n",
       "    </tr>\n",
       "    <tr>\n",
       "      <th id=\"T_ae844_level0_row8\" class=\"row_heading level0 row8\" >8</th>\n",
       "      <td id=\"T_ae844_row8_col0\" class=\"data row8 col0\" >2097.4436</td>\n",
       "      <td id=\"T_ae844_row8_col1\" class=\"data row8 col1\" >11009028.2647</td>\n",
       "      <td id=\"T_ae844_row8_col2\" class=\"data row8 col2\" >3317.9856</td>\n",
       "      <td id=\"T_ae844_row8_col3\" class=\"data row8 col3\" >0.8705</td>\n",
       "      <td id=\"T_ae844_row8_col4\" class=\"data row8 col4\" >0.3071</td>\n",
       "      <td id=\"T_ae844_row8_col5\" class=\"data row8 col5\" >0.2518</td>\n",
       "    </tr>\n",
       "    <tr>\n",
       "      <th id=\"T_ae844_level0_row9\" class=\"row_heading level0 row9\" >9</th>\n",
       "      <td id=\"T_ae844_row9_col0\" class=\"data row9 col0\" >1962.2882</td>\n",
       "      <td id=\"T_ae844_row9_col1\" class=\"data row9 col1\" >11303775.4218</td>\n",
       "      <td id=\"T_ae844_row9_col2\" class=\"data row9 col2\" >3362.1088</td>\n",
       "      <td id=\"T_ae844_row9_col3\" class=\"data row9 col3\" >0.8813</td>\n",
       "      <td id=\"T_ae844_row9_col4\" class=\"data row9 col4\" >0.4131</td>\n",
       "      <td id=\"T_ae844_row9_col5\" class=\"data row9 col5\" >0.2735</td>\n",
       "    </tr>\n",
       "    <tr>\n",
       "      <th id=\"T_ae844_level0_row10\" class=\"row_heading level0 row10\" >Mean</th>\n",
       "      <td id=\"T_ae844_row10_col0\" class=\"data row10 col0\" >2494.3084</td>\n",
       "      <td id=\"T_ae844_row10_col1\" class=\"data row10 col1\" >20606071.3122</td>\n",
       "      <td id=\"T_ae844_row10_col2\" class=\"data row10 col2\" >4459.9776</td>\n",
       "      <td id=\"T_ae844_row10_col3\" class=\"data row10 col3\" >0.8458</td>\n",
       "      <td id=\"T_ae844_row10_col4\" class=\"data row10 col4\" >0.4245</td>\n",
       "      <td id=\"T_ae844_row10_col5\" class=\"data row10 col5\" >0.2880</td>\n",
       "    </tr>\n",
       "    <tr>\n",
       "      <th id=\"T_ae844_level0_row11\" class=\"row_heading level0 row11\" >Std</th>\n",
       "      <td id=\"T_ae844_row11_col0\" class=\"data row11 col0\" >352.4042</td>\n",
       "      <td id=\"T_ae844_row11_col1\" class=\"data row11 col1\" >7660624.5405</td>\n",
       "      <td id=\"T_ae844_row11_col2\" class=\"data row11 col2\" >845.3821</td>\n",
       "      <td id=\"T_ae844_row11_col3\" class=\"data row11 col3\" >0.0659</td>\n",
       "      <td id=\"T_ae844_row11_col4\" class=\"data row11 col4\" >0.0726</td>\n",
       "      <td id=\"T_ae844_row11_col5\" class=\"data row11 col5\" >0.0360</td>\n",
       "    </tr>\n",
       "  </tbody>\n",
       "</table>\n"
      ],
      "text/plain": [
       "<pandas.io.formats.style.Styler at 0x1310d78e0>"
      ]
     },
     "metadata": {},
     "output_type": "display_data"
    },
    {
     "data": {
      "application/vnd.jupyter.widget-view+json": {
       "model_id": "4dae1df3249d43f8985e0e51775712c0",
       "version_major": 2,
       "version_minor": 0
      },
      "text/plain": [
       "Processing:   0%|          | 0/4 [00:00<?, ?it/s]"
      ]
     },
     "metadata": {},
     "output_type": "display_data"
    }
   ],
   "source": [
    "# Instantiating the model\n",
    "gbr = create_model('gbr')"
   ]
  },
  {
   "cell_type": "markdown",
   "metadata": {},
   "source": [
    "## Model Tuning"
   ]
  },
  {
   "cell_type": "markdown",
   "metadata": {},
   "source": [
    "The Model Tuning step in PyCaret consists of **adjusting the model's hyperparameters** to optimize its performance. Instead of using default values, this phase **searches for the best combination of parameters** through techniques such as Random Grid Search."
   ]
  },
  {
   "cell_type": "code",
   "execution_count": 138,
   "metadata": {},
   "outputs": [
    {
     "data": {
      "text/html": [],
      "text/plain": [
       "<IPython.core.display.HTML object>"
      ]
     },
     "metadata": {},
     "output_type": "display_data"
    },
    {
     "data": {
      "text/html": [
       "<style type=\"text/css\">\n",
       "#T_3580b_row10_col0, #T_3580b_row10_col1, #T_3580b_row10_col2, #T_3580b_row10_col3, #T_3580b_row10_col4, #T_3580b_row10_col5 {\n",
       "  background: yellow;\n",
       "}\n",
       "</style>\n",
       "<table id=\"T_3580b\">\n",
       "  <thead>\n",
       "    <tr>\n",
       "      <th class=\"blank level0\" >&nbsp;</th>\n",
       "      <th id=\"T_3580b_level0_col0\" class=\"col_heading level0 col0\" >MAE</th>\n",
       "      <th id=\"T_3580b_level0_col1\" class=\"col_heading level0 col1\" >MSE</th>\n",
       "      <th id=\"T_3580b_level0_col2\" class=\"col_heading level0 col2\" >RMSE</th>\n",
       "      <th id=\"T_3580b_level0_col3\" class=\"col_heading level0 col3\" >R2</th>\n",
       "      <th id=\"T_3580b_level0_col4\" class=\"col_heading level0 col4\" >RMSLE</th>\n",
       "      <th id=\"T_3580b_level0_col5\" class=\"col_heading level0 col5\" >MAPE</th>\n",
       "    </tr>\n",
       "    <tr>\n",
       "      <th class=\"index_name level0\" >Fold</th>\n",
       "      <th class=\"blank col0\" >&nbsp;</th>\n",
       "      <th class=\"blank col1\" >&nbsp;</th>\n",
       "      <th class=\"blank col2\" >&nbsp;</th>\n",
       "      <th class=\"blank col3\" >&nbsp;</th>\n",
       "      <th class=\"blank col4\" >&nbsp;</th>\n",
       "      <th class=\"blank col5\" >&nbsp;</th>\n",
       "    </tr>\n",
       "  </thead>\n",
       "  <tbody>\n",
       "    <tr>\n",
       "      <th id=\"T_3580b_level0_row0\" class=\"row_heading level0 row0\" >0</th>\n",
       "      <td id=\"T_3580b_row0_col0\" class=\"data row0 col0\" >3018.7954</td>\n",
       "      <td id=\"T_3580b_row0_col1\" class=\"data row0 col1\" >27184014.1774</td>\n",
       "      <td id=\"T_3580b_row0_col2\" class=\"data row0 col2\" >5213.8291</td>\n",
       "      <td id=\"T_3580b_row0_col3\" class=\"data row0 col3\" >0.8254</td>\n",
       "      <td id=\"T_3580b_row0_col4\" class=\"data row0 col4\" >0.4952</td>\n",
       "      <td id=\"T_3580b_row0_col5\" class=\"data row0 col5\" >0.3282</td>\n",
       "    </tr>\n",
       "    <tr>\n",
       "      <th id=\"T_3580b_level0_row1\" class=\"row_heading level0 row1\" >1</th>\n",
       "      <td id=\"T_3580b_row1_col0\" class=\"data row1 col0\" >2590.9251</td>\n",
       "      <td id=\"T_3580b_row1_col1\" class=\"data row1 col1\" >21081326.1634</td>\n",
       "      <td id=\"T_3580b_row1_col2\" class=\"data row1 col2\" >4591.4405</td>\n",
       "      <td id=\"T_3580b_row1_col3\" class=\"data row1 col3\" >0.8850</td>\n",
       "      <td id=\"T_3580b_row1_col4\" class=\"data row1 col4\" >0.3957</td>\n",
       "      <td id=\"T_3580b_row1_col5\" class=\"data row1 col5\" >0.2457</td>\n",
       "    </tr>\n",
       "    <tr>\n",
       "      <th id=\"T_3580b_level0_row2\" class=\"row_heading level0 row2\" >2</th>\n",
       "      <td id=\"T_3580b_row2_col0\" class=\"data row2 col0\" >3006.9781</td>\n",
       "      <td id=\"T_3580b_row2_col1\" class=\"data row2 col1\" >32118494.6325</td>\n",
       "      <td id=\"T_3580b_row2_col2\" class=\"data row2 col2\" >5667.3181</td>\n",
       "      <td id=\"T_3580b_row2_col3\" class=\"data row2 col3\" >0.8103</td>\n",
       "      <td id=\"T_3580b_row2_col4\" class=\"data row2 col4\" >0.4703</td>\n",
       "      <td id=\"T_3580b_row2_col5\" class=\"data row2 col5\" >0.3083</td>\n",
       "    </tr>\n",
       "    <tr>\n",
       "      <th id=\"T_3580b_level0_row3\" class=\"row_heading level0 row3\" >3</th>\n",
       "      <td id=\"T_3580b_row3_col0\" class=\"data row3 col0\" >1967.5294</td>\n",
       "      <td id=\"T_3580b_row3_col1\" class=\"data row3 col1\" >13712204.3697</td>\n",
       "      <td id=\"T_3580b_row3_col2\" class=\"data row3 col2\" >3702.9994</td>\n",
       "      <td id=\"T_3580b_row3_col3\" class=\"data row3 col3\" >0.9164</td>\n",
       "      <td id=\"T_3580b_row3_col4\" class=\"data row3 col4\" >0.3939</td>\n",
       "      <td id=\"T_3580b_row3_col5\" class=\"data row3 col5\" >0.3093</td>\n",
       "    </tr>\n",
       "    <tr>\n",
       "      <th id=\"T_3580b_level0_row4\" class=\"row_heading level0 row4\" >4</th>\n",
       "      <td id=\"T_3580b_row4_col0\" class=\"data row4 col0\" >3082.5206</td>\n",
       "      <td id=\"T_3580b_row4_col1\" class=\"data row4 col1\" >36577248.9270</td>\n",
       "      <td id=\"T_3580b_row4_col2\" class=\"data row4 col2\" >6047.9128</td>\n",
       "      <td id=\"T_3580b_row4_col3\" class=\"data row4 col3\" >0.6589</td>\n",
       "      <td id=\"T_3580b_row4_col4\" class=\"data row4 col4\" >0.5850</td>\n",
       "      <td id=\"T_3580b_row4_col5\" class=\"data row4 col5\" >0.2471</td>\n",
       "    </tr>\n",
       "    <tr>\n",
       "      <th id=\"T_3580b_level0_row5\" class=\"row_heading level0 row5\" >5</th>\n",
       "      <td id=\"T_3580b_row5_col0\" class=\"data row5 col0\" >2400.0926</td>\n",
       "      <td id=\"T_3580b_row5_col1\" class=\"data row5 col1\" >19009689.9243</td>\n",
       "      <td id=\"T_3580b_row5_col2\" class=\"data row5 col2\" >4360.0103</td>\n",
       "      <td id=\"T_3580b_row5_col3\" class=\"data row5 col3\" >0.8450</td>\n",
       "      <td id=\"T_3580b_row5_col4\" class=\"data row5 col4\" >0.4108</td>\n",
       "      <td id=\"T_3580b_row5_col5\" class=\"data row5 col5\" >0.3131</td>\n",
       "    </tr>\n",
       "    <tr>\n",
       "      <th id=\"T_3580b_level0_row6\" class=\"row_heading level0 row6\" >6</th>\n",
       "      <td id=\"T_3580b_row6_col0\" class=\"data row6 col0\" >2751.8003</td>\n",
       "      <td id=\"T_3580b_row6_col1\" class=\"data row6 col1\" >24506509.1942</td>\n",
       "      <td id=\"T_3580b_row6_col2\" class=\"data row6 col2\" >4950.4050</td>\n",
       "      <td id=\"T_3580b_row6_col3\" class=\"data row6 col3\" >0.8060</td>\n",
       "      <td id=\"T_3580b_row6_col4\" class=\"data row6 col4\" >0.4198</td>\n",
       "      <td id=\"T_3580b_row6_col5\" class=\"data row6 col5\" >0.3211</td>\n",
       "    </tr>\n",
       "    <tr>\n",
       "      <th id=\"T_3580b_level0_row7\" class=\"row_heading level0 row7\" >7</th>\n",
       "      <td id=\"T_3580b_row7_col0\" class=\"data row7 col0\" >2697.1972</td>\n",
       "      <td id=\"T_3580b_row7_col1\" class=\"data row7 col1\" >18040227.5162</td>\n",
       "      <td id=\"T_3580b_row7_col2\" class=\"data row7 col2\" >4247.3789</td>\n",
       "      <td id=\"T_3580b_row7_col3\" class=\"data row7 col3\" >0.9017</td>\n",
       "      <td id=\"T_3580b_row7_col4\" class=\"data row7 col4\" >0.3770</td>\n",
       "      <td id=\"T_3580b_row7_col5\" class=\"data row7 col5\" >0.3157</td>\n",
       "    </tr>\n",
       "    <tr>\n",
       "      <th id=\"T_3580b_level0_row8\" class=\"row_heading level0 row8\" >8</th>\n",
       "      <td id=\"T_3580b_row8_col0\" class=\"data row8 col0\" >2166.6087</td>\n",
       "      <td id=\"T_3580b_row8_col1\" class=\"data row8 col1\" >11732893.1920</td>\n",
       "      <td id=\"T_3580b_row8_col2\" class=\"data row8 col2\" >3425.3311</td>\n",
       "      <td id=\"T_3580b_row8_col3\" class=\"data row8 col3\" >0.8620</td>\n",
       "      <td id=\"T_3580b_row8_col4\" class=\"data row8 col4\" >0.3032</td>\n",
       "      <td id=\"T_3580b_row8_col5\" class=\"data row8 col5\" >0.2468</td>\n",
       "    </tr>\n",
       "    <tr>\n",
       "      <th id=\"T_3580b_level0_row9\" class=\"row_heading level0 row9\" >9</th>\n",
       "      <td id=\"T_3580b_row9_col0\" class=\"data row9 col0\" >2159.3293</td>\n",
       "      <td id=\"T_3580b_row9_col1\" class=\"data row9 col1\" >13238070.1823</td>\n",
       "      <td id=\"T_3580b_row9_col2\" class=\"data row9 col2\" >3638.4159</td>\n",
       "      <td id=\"T_3580b_row9_col3\" class=\"data row9 col3\" >0.8610</td>\n",
       "      <td id=\"T_3580b_row9_col4\" class=\"data row9 col4\" >0.4722</td>\n",
       "      <td id=\"T_3580b_row9_col5\" class=\"data row9 col5\" >0.3057</td>\n",
       "    </tr>\n",
       "    <tr>\n",
       "      <th id=\"T_3580b_level0_row10\" class=\"row_heading level0 row10\" >Mean</th>\n",
       "      <td id=\"T_3580b_row10_col0\" class=\"data row10 col0\" >2584.1777</td>\n",
       "      <td id=\"T_3580b_row10_col1\" class=\"data row10 col1\" >21720067.8279</td>\n",
       "      <td id=\"T_3580b_row10_col2\" class=\"data row10 col2\" >4584.5041</td>\n",
       "      <td id=\"T_3580b_row10_col3\" class=\"data row10 col3\" >0.8372</td>\n",
       "      <td id=\"T_3580b_row10_col4\" class=\"data row10 col4\" >0.4323</td>\n",
       "      <td id=\"T_3580b_row10_col5\" class=\"data row10 col5\" >0.2941</td>\n",
       "    </tr>\n",
       "    <tr>\n",
       "      <th id=\"T_3580b_level0_row11\" class=\"row_heading level0 row11\" >Std</th>\n",
       "      <td id=\"T_3580b_row11_col0\" class=\"data row11 col0\" >377.6132</td>\n",
       "      <td id=\"T_3580b_row11_col1\" class=\"data row11 col1\" >7896779.4566</td>\n",
       "      <td id=\"T_3580b_row11_col2\" class=\"data row11 col2\" >838.0871</td>\n",
       "      <td id=\"T_3580b_row11_col3\" class=\"data row11 col3\" >0.0690</td>\n",
       "      <td id=\"T_3580b_row11_col4\" class=\"data row11 col4\" >0.0731</td>\n",
       "      <td id=\"T_3580b_row11_col5\" class=\"data row11 col5\" >0.0317</td>\n",
       "    </tr>\n",
       "  </tbody>\n",
       "</table>\n"
      ],
      "text/plain": [
       "<pandas.io.formats.style.Styler at 0x130d19850>"
      ]
     },
     "metadata": {},
     "output_type": "display_data"
    },
    {
     "data": {
      "text/html": [],
      "text/plain": [
       "<IPython.core.display.HTML object>"
      ]
     },
     "metadata": {},
     "output_type": "display_data"
    },
    {
     "name": "stdout",
     "output_type": "stream",
     "text": [
      "Fitting 10 folds for each of 10 candidates, totalling 100 fits\n",
      "Original model was better than the tuned model, hence it will be returned. NOTE: The display metrics are for the tuned model (not the original one).\n"
     ]
    }
   ],
   "source": [
    "# Hyperparameter tuning\n",
    "tuned_gbr = tune_model(gbr, optimize='R2')"
   ]
  },
  {
   "cell_type": "markdown",
   "metadata": {},
   "source": [
    "In this case, the tuned model did not present better results than the original. However, it is worth **highlighting the importance and practicality** of this function."
   ]
  },
  {
   "cell_type": "markdown",
   "metadata": {},
   "source": [
    "# Evaluation"
   ]
  },
  {
   "cell_type": "markdown",
   "metadata": {},
   "source": [
    "## Interactive Model Evaluation"
   ]
  },
  {
   "cell_type": "markdown",
   "metadata": {},
   "source": [
    "The evaluate_model() function in PyCaret allows you to interactively visualize the performance of the fitted model. It generates several graphs and metrics that **help analyze the quality of predictions and identify potential problems**, such as overfitting."
   ]
  },
  {
   "cell_type": "code",
   "execution_count": 125,
   "metadata": {},
   "outputs": [
    {
     "data": {
      "application/vnd.jupyter.widget-view+json": {
       "model_id": "732652287b434163bf48c5a239032b39",
       "version_major": 2,
       "version_minor": 0
      },
      "text/plain": [
       "interactive(children=(ToggleButtons(description='Plot Type:', icons=('',), options=(('Pipeline Plot', 'pipelin…"
      ]
     },
     "metadata": {},
     "output_type": "display_data"
    }
   ],
   "source": [
    "# Evaluating the model\n",
    "evaluate_model(tuned_gbr)"
   ]
  },
  {
   "cell_type": "markdown",
   "metadata": {},
   "source": [
    "## Making the predictions"
   ]
  },
  {
   "cell_type": "markdown",
   "metadata": {},
   "source": [
    "The predict_model() function in PyCaret is used to **generate predictions with a previously trained and tuned model**. It can be applied to both test data and new data sets to evaluate the model's performance.\n",
    "\n",
    "When called without a specific data set, predict_model(tuned_gbr) **returns predictions for the test data automatically separated by PyCaret**.\n",
    "\n",
    "Later on, we will also use it for data separated at the beginning, never exposed to PyCaret."
   ]
  },
  {
   "cell_type": "code",
   "execution_count": 126,
   "metadata": {},
   "outputs": [
    {
     "data": {
      "text/html": [
       "<style type=\"text/css\">\n",
       "</style>\n",
       "<table id=\"T_458b7\">\n",
       "  <thead>\n",
       "    <tr>\n",
       "      <th class=\"blank level0\" >&nbsp;</th>\n",
       "      <th id=\"T_458b7_level0_col0\" class=\"col_heading level0 col0\" >Model</th>\n",
       "      <th id=\"T_458b7_level0_col1\" class=\"col_heading level0 col1\" >MAE</th>\n",
       "      <th id=\"T_458b7_level0_col2\" class=\"col_heading level0 col2\" >MSE</th>\n",
       "      <th id=\"T_458b7_level0_col3\" class=\"col_heading level0 col3\" >RMSE</th>\n",
       "      <th id=\"T_458b7_level0_col4\" class=\"col_heading level0 col4\" >R2</th>\n",
       "      <th id=\"T_458b7_level0_col5\" class=\"col_heading level0 col5\" >RMSLE</th>\n",
       "      <th id=\"T_458b7_level0_col6\" class=\"col_heading level0 col6\" >MAPE</th>\n",
       "    </tr>\n",
       "  </thead>\n",
       "  <tbody>\n",
       "    <tr>\n",
       "      <th id=\"T_458b7_level0_row0\" class=\"row_heading level0 row0\" >0</th>\n",
       "      <td id=\"T_458b7_row0_col0\" class=\"data row0 col0\" >Gradient Boosting Regressor</td>\n",
       "      <td id=\"T_458b7_row0_col1\" class=\"data row0 col1\" >2597.8849</td>\n",
       "      <td id=\"T_458b7_row0_col2\" class=\"data row0 col2\" >23370476.3041</td>\n",
       "      <td id=\"T_458b7_row0_col3\" class=\"data row0 col3\" >4834.3020</td>\n",
       "      <td id=\"T_458b7_row0_col4\" class=\"data row0 col4\" >0.8639</td>\n",
       "      <td id=\"T_458b7_row0_col5\" class=\"data row0 col5\" >0.4358</td>\n",
       "      <td id=\"T_458b7_row0_col6\" class=\"data row0 col6\" >0.3044</td>\n",
       "    </tr>\n",
       "  </tbody>\n",
       "</table>\n"
      ],
      "text/plain": [
       "<pandas.io.formats.style.Styler at 0x120f7a2e0>"
      ]
     },
     "metadata": {},
     "output_type": "display_data"
    }
   ],
   "source": [
    "# Making the predictions\n",
    "predict_model(tuned_gbr);"
   ]
  },
  {
   "cell_type": "markdown",
   "metadata": {},
   "source": [
    "We can see the R2 metric with 0.8639, **very similar** to the 0.8458 obtained with the training data."
   ]
  },
  {
   "cell_type": "markdown",
   "metadata": {},
   "source": [
    "## Finalizing the model"
   ]
  },
  {
   "cell_type": "markdown",
   "metadata": {},
   "source": [
    "The finalize_model() function in PyCaret is used to train the fine-tuned model on the **entire available dataset**, ensuring that it uses as much information as possible before deploying it.\n",
    "\n",
    "By default, PyCaret sets aside a portion of the data for testing, but **when finalizing the model, it is re-trained using 100% of the training data** to improve generalization before deploying it to new data."
   ]
  },
  {
   "cell_type": "code",
   "execution_count": 100,
   "metadata": {},
   "outputs": [],
   "source": [
    "# Finalizing the model\n",
    "final_gbr = finalize_model(tuned_gbr)"
   ]
  },
  {
   "cell_type": "code",
   "execution_count": 128,
   "metadata": {},
   "outputs": [
    {
     "data": {
      "text/plain": [
       "pycaret.internal.pipeline.Pipeline"
      ]
     },
     "execution_count": 128,
     "metadata": {},
     "output_type": "execute_result"
    }
   ],
   "source": [
    "type(final_gbr)"
   ]
  },
  {
   "cell_type": "code",
   "execution_count": null,
   "metadata": {},
   "outputs": [
    {
     "data": {
      "text/html": [
       "<style type=\"text/css\">\n",
       "</style>\n",
       "<table id=\"T_2bfcb\">\n",
       "  <thead>\n",
       "    <tr>\n",
       "      <th class=\"blank level0\" >&nbsp;</th>\n",
       "      <th id=\"T_2bfcb_level0_col0\" class=\"col_heading level0 col0\" >Model</th>\n",
       "      <th id=\"T_2bfcb_level0_col1\" class=\"col_heading level0 col1\" >MAE</th>\n",
       "      <th id=\"T_2bfcb_level0_col2\" class=\"col_heading level0 col2\" >MSE</th>\n",
       "      <th id=\"T_2bfcb_level0_col3\" class=\"col_heading level0 col3\" >RMSE</th>\n",
       "      <th id=\"T_2bfcb_level0_col4\" class=\"col_heading level0 col4\" >R2</th>\n",
       "      <th id=\"T_2bfcb_level0_col5\" class=\"col_heading level0 col5\" >RMSLE</th>\n",
       "      <th id=\"T_2bfcb_level0_col6\" class=\"col_heading level0 col6\" >MAPE</th>\n",
       "    </tr>\n",
       "  </thead>\n",
       "  <tbody>\n",
       "    <tr>\n",
       "      <th id=\"T_2bfcb_level0_row0\" class=\"row_heading level0 row0\" >0</th>\n",
       "      <td id=\"T_2bfcb_row0_col0\" class=\"data row0 col0\" >Gradient Boosting Regressor</td>\n",
       "      <td id=\"T_2bfcb_row0_col1\" class=\"data row0 col1\" >2168.0185</td>\n",
       "      <td id=\"T_2bfcb_row0_col2\" class=\"data row0 col2\" >14726116.5617</td>\n",
       "      <td id=\"T_2bfcb_row0_col3\" class=\"data row0 col3\" >3837.4623</td>\n",
       "      <td id=\"T_2bfcb_row0_col4\" class=\"data row0 col4\" >0.9020</td>\n",
       "      <td id=\"T_2bfcb_row0_col5\" class=\"data row0 col5\" >0.3537</td>\n",
       "      <td id=\"T_2bfcb_row0_col6\" class=\"data row0 col6\" >0.2546</td>\n",
       "    </tr>\n",
       "  </tbody>\n",
       "</table>\n"
      ],
      "text/plain": [
       "<pandas.io.formats.style.Styler at 0x1301a90d0>"
      ]
     },
     "metadata": {},
     "output_type": "display_data"
    }
   ],
   "source": [
    "# Making predictions with the model trained with all the data provided to PyCaret\n",
    "pred_holdout = predict_model(final_gbr, data=train)"
   ]
  },
  {
   "cell_type": "markdown",
   "metadata": {},
   "source": [
    "As expected, we have better metrics, as the model is being tested with data used in its training (**overfitting**)."
   ]
  },
  {
   "cell_type": "code",
   "execution_count": 130,
   "metadata": {},
   "outputs": [
    {
     "name": "stdout",
     "output_type": "stream",
     "text": [
      "Pipeline(memory=Memory(location=None),\n",
      "         steps=[('numerical_imputer',\n",
      "                 TransformerWrapper(include=['age', 'bmi', 'children'],\n",
      "                                    transformer=SimpleImputer())),\n",
      "                ('categorical_imputer',\n",
      "                 TransformerWrapper(include=['sex', 'smoker', 'region'],\n",
      "                                    transformer=SimpleImputer(strategy='most_frequent'))),\n",
      "                ('ordinal_encoding',\n",
      "                 TransformerWrapper(include=['sex', 'smoker'],\n",
      "                                    transfor...\n",
      "                                                                        {'col': 'smoker',\n",
      "                                                                         'data_type': dtype('O'),\n",
      "                                                                         'mapping': no     0\n",
      "yes    1\n",
      "NaN   -1\n",
      "dtype: int64}]))),\n",
      "                ('onehot_encoding',\n",
      "                 TransformerWrapper(include=['region'],\n",
      "                                    transformer=OneHotEncoder(cols=['region'],\n",
      "                                                              handle_missing='return_nan',\n",
      "                                                              use_cat_names=True))),\n",
      "                ('normalize', TransformerWrapper(transformer=StandardScaler())),\n",
      "                ('actual_estimator',\n",
      "                 GradientBoostingRegressor(random_state=8264))])\n"
     ]
    }
   ],
   "source": [
    "# Checking the parameters\n",
    "print(final_gbr)"
   ]
  },
  {
   "cell_type": "markdown",
   "metadata": {},
   "source": [
    "## Predicting on new data\n"
   ]
  },
  {
   "cell_type": "markdown",
   "metadata": {},
   "source": [
    "We will use the **separate dataset before using Pycaret**, so as to ensure the reliability of the model."
   ]
  },
  {
   "cell_type": "code",
   "execution_count": null,
   "metadata": {},
   "outputs": [
    {
     "data": {
      "text/html": [
       "<style type=\"text/css\">\n",
       "</style>\n",
       "<table id=\"T_8713e\">\n",
       "  <thead>\n",
       "    <tr>\n",
       "      <th class=\"blank level0\" >&nbsp;</th>\n",
       "      <th id=\"T_8713e_level0_col0\" class=\"col_heading level0 col0\" >Model</th>\n",
       "      <th id=\"T_8713e_level0_col1\" class=\"col_heading level0 col1\" >MAE</th>\n",
       "      <th id=\"T_8713e_level0_col2\" class=\"col_heading level0 col2\" >MSE</th>\n",
       "      <th id=\"T_8713e_level0_col3\" class=\"col_heading level0 col3\" >RMSE</th>\n",
       "      <th id=\"T_8713e_level0_col4\" class=\"col_heading level0 col4\" >R2</th>\n",
       "      <th id=\"T_8713e_level0_col5\" class=\"col_heading level0 col5\" >RMSLE</th>\n",
       "      <th id=\"T_8713e_level0_col6\" class=\"col_heading level0 col6\" >MAPE</th>\n",
       "    </tr>\n",
       "  </thead>\n",
       "  <tbody>\n",
       "    <tr>\n",
       "      <th id=\"T_8713e_level0_row0\" class=\"row_heading level0 row0\" >0</th>\n",
       "      <td id=\"T_8713e_row0_col0\" class=\"data row0 col0\" >Gradient Boosting Regressor</td>\n",
       "      <td id=\"T_8713e_row0_col1\" class=\"data row0 col1\" >2338.6557</td>\n",
       "      <td id=\"T_8713e_row0_col2\" class=\"data row0 col2\" >16011178.8905</td>\n",
       "      <td id=\"T_8713e_row0_col3\" class=\"data row0 col3\" >4001.3971</td>\n",
       "      <td id=\"T_8713e_row0_col4\" class=\"data row0 col4\" >0.8718</td>\n",
       "      <td id=\"T_8713e_row0_col5\" class=\"data row0 col5\" >0.4091</td>\n",
       "      <td id=\"T_8713e_row0_col6\" class=\"data row0 col6\" >0.2845</td>\n",
       "    </tr>\n",
       "  </tbody>\n",
       "</table>\n"
      ],
      "text/plain": [
       "<pandas.io.formats.style.Styler at 0x130125670>"
      ]
     },
     "metadata": {},
     "output_type": "display_data"
    },
    {
     "data": {
      "text/html": [
       "<div>\n",
       "<style scoped>\n",
       "    .dataframe tbody tr th:only-of-type {\n",
       "        vertical-align: middle;\n",
       "    }\n",
       "\n",
       "    .dataframe tbody tr th {\n",
       "        vertical-align: top;\n",
       "    }\n",
       "\n",
       "    .dataframe thead th {\n",
       "        text-align: right;\n",
       "    }\n",
       "</style>\n",
       "<table border=\"1\" class=\"dataframe\">\n",
       "  <thead>\n",
       "    <tr style=\"text-align: right;\">\n",
       "      <th></th>\n",
       "      <th>age</th>\n",
       "      <th>sex</th>\n",
       "      <th>bmi</th>\n",
       "      <th>children</th>\n",
       "      <th>smoker</th>\n",
       "      <th>region</th>\n",
       "      <th>charges</th>\n",
       "      <th>prediction_label</th>\n",
       "    </tr>\n",
       "  </thead>\n",
       "  <tbody>\n",
       "    <tr>\n",
       "      <th>0</th>\n",
       "      <td>18</td>\n",
       "      <td>female</td>\n",
       "      <td>28.215000</td>\n",
       "      <td>0</td>\n",
       "      <td>no</td>\n",
       "      <td>northeast</td>\n",
       "      <td>2200.830811</td>\n",
       "      <td>3907.452642</td>\n",
       "    </tr>\n",
       "    <tr>\n",
       "      <th>1</th>\n",
       "      <td>26</td>\n",
       "      <td>male</td>\n",
       "      <td>32.900002</td>\n",
       "      <td>2</td>\n",
       "      <td>yes</td>\n",
       "      <td>southwest</td>\n",
       "      <td>36085.218750</td>\n",
       "      <td>34719.015207</td>\n",
       "    </tr>\n",
       "    <tr>\n",
       "      <th>2</th>\n",
       "      <td>50</td>\n",
       "      <td>male</td>\n",
       "      <td>32.299999</td>\n",
       "      <td>2</td>\n",
       "      <td>no</td>\n",
       "      <td>southwest</td>\n",
       "      <td>9630.397461</td>\n",
       "      <td>11540.352690</td>\n",
       "    </tr>\n",
       "    <tr>\n",
       "      <th>3</th>\n",
       "      <td>49</td>\n",
       "      <td>female</td>\n",
       "      <td>27.170000</td>\n",
       "      <td>0</td>\n",
       "      <td>no</td>\n",
       "      <td>southeast</td>\n",
       "      <td>8601.329102</td>\n",
       "      <td>11452.363425</td>\n",
       "    </tr>\n",
       "    <tr>\n",
       "      <th>4</th>\n",
       "      <td>57</td>\n",
       "      <td>female</td>\n",
       "      <td>38.000000</td>\n",
       "      <td>2</td>\n",
       "      <td>no</td>\n",
       "      <td>southwest</td>\n",
       "      <td>12646.207031</td>\n",
       "      <td>14812.582825</td>\n",
       "    </tr>\n",
       "  </tbody>\n",
       "</table>\n",
       "</div>"
      ],
      "text/plain": [
       "   age     sex        bmi  children smoker     region       charges  \\\n",
       "0   18  female  28.215000         0     no  northeast   2200.830811   \n",
       "1   26    male  32.900002         2    yes  southwest  36085.218750   \n",
       "2   50    male  32.299999         2     no  southwest   9630.397461   \n",
       "3   49  female  27.170000         0     no  southeast   8601.329102   \n",
       "4   57  female  38.000000         2     no  southwest  12646.207031   \n",
       "\n",
       "   prediction_label  \n",
       "0       3907.452642  \n",
       "1      34719.015207  \n",
       "2      11540.352690  \n",
       "3      11452.363425  \n",
       "4      14812.582825  "
      ]
     },
     "execution_count": 104,
     "metadata": {},
     "output_type": "execute_result"
    }
   ],
   "source": [
    "# Making Predictions with Unseen Data\n",
    "unseen_predictions = predict_model(final_gbr, data=test)\n",
    "unseen_predictions.head()"
   ]
  },
  {
   "cell_type": "markdown",
   "metadata": {},
   "source": [
    "R2 of 0.8718, **very similar** to the results obtained by the PyCaret test set, making the model acceptable."
   ]
  },
  {
   "cell_type": "markdown",
   "metadata": {},
   "source": [
    "# Saving the model"
   ]
  },
  {
   "cell_type": "markdown",
   "metadata": {},
   "source": [
    "The save_model() function is used to save a trained and finalized model, allowing it to be easily loaded and used later without the need for retraining. This is especially **useful for production deployment**, where the model can be saved and reused to make predictions in real time or on new datasets.\n",
    "\n",
    "The model is saved in a pickle file format (.pkl), which makes it easy to store and portable across environments."
   ]
  },
  {
   "cell_type": "code",
   "execution_count": 131,
   "metadata": {},
   "outputs": [
    {
     "name": "stdout",
     "output_type": "stream",
     "text": [
      "Transformation Pipeline and Model Successfully Saved\n"
     ]
    },
    {
     "data": {
      "text/plain": [
       "(Pipeline(memory=Memory(location=None),\n",
       "          steps=[('numerical_imputer',\n",
       "                  TransformerWrapper(include=['age', 'bmi', 'children'],\n",
       "                                     transformer=SimpleImputer())),\n",
       "                 ('categorical_imputer',\n",
       "                  TransformerWrapper(include=['sex', 'smoker', 'region'],\n",
       "                                     transformer=SimpleImputer(strategy='most_frequent'))),\n",
       "                 ('ordinal_encoding',\n",
       "                  TransformerWrapper(include=['sex', 'smoker'],\n",
       "                                     transfor...\n",
       "                                                                         {'col': 'smoker',\n",
       "                                                                          'data_type': dtype('O'),\n",
       "                                                                          'mapping': no     0\n",
       " yes    1\n",
       " NaN   -1\n",
       " dtype: int64}]))),\n",
       "                 ('onehot_encoding',\n",
       "                  TransformerWrapper(include=['region'],\n",
       "                                     transformer=OneHotEncoder(cols=['region'],\n",
       "                                                               handle_missing='return_nan',\n",
       "                                                               use_cat_names=True))),\n",
       "                 ('normalize', TransformerWrapper(transformer=StandardScaler())),\n",
       "                 ('actual_estimator',\n",
       "                  GradientBoostingRegressor(random_state=8264))]),\n",
       " 'Modelo_Final_03_06_25.pkl')"
      ]
     },
     "execution_count": 131,
     "metadata": {},
     "output_type": "execute_result"
    }
   ],
   "source": [
    "save_model(final_gbr,'Modelo_Final_03_06_25')"
   ]
  },
  {
   "cell_type": "markdown",
   "metadata": {},
   "source": [
    "## Loading a model"
   ]
  },
  {
   "cell_type": "markdown",
   "metadata": {},
   "source": []
  },
  {
   "cell_type": "code",
   "execution_count": 132,
   "metadata": {},
   "outputs": [
    {
     "name": "stdout",
     "output_type": "stream",
     "text": [
      "Transformation Pipeline and Model Successfully Loaded\n"
     ]
    }
   ],
   "source": [
    "# Loading a saved model\n",
    "saved_final_gbr = load_model('Modelo_Final_03_06_25')"
   ]
  },
  {
   "cell_type": "code",
   "execution_count": 133,
   "metadata": {},
   "outputs": [
    {
     "data": {
      "text/html": [
       "<style type=\"text/css\">\n",
       "</style>\n",
       "<table id=\"T_4fcfa\">\n",
       "  <thead>\n",
       "    <tr>\n",
       "      <th class=\"blank level0\" >&nbsp;</th>\n",
       "      <th id=\"T_4fcfa_level0_col0\" class=\"col_heading level0 col0\" >Model</th>\n",
       "      <th id=\"T_4fcfa_level0_col1\" class=\"col_heading level0 col1\" >MAE</th>\n",
       "      <th id=\"T_4fcfa_level0_col2\" class=\"col_heading level0 col2\" >MSE</th>\n",
       "      <th id=\"T_4fcfa_level0_col3\" class=\"col_heading level0 col3\" >RMSE</th>\n",
       "      <th id=\"T_4fcfa_level0_col4\" class=\"col_heading level0 col4\" >R2</th>\n",
       "      <th id=\"T_4fcfa_level0_col5\" class=\"col_heading level0 col5\" >RMSLE</th>\n",
       "      <th id=\"T_4fcfa_level0_col6\" class=\"col_heading level0 col6\" >MAPE</th>\n",
       "    </tr>\n",
       "  </thead>\n",
       "  <tbody>\n",
       "    <tr>\n",
       "      <th id=\"T_4fcfa_level0_row0\" class=\"row_heading level0 row0\" >0</th>\n",
       "      <td id=\"T_4fcfa_row0_col0\" class=\"data row0 col0\" >Gradient Boosting Regressor</td>\n",
       "      <td id=\"T_4fcfa_row0_col1\" class=\"data row0 col1\" >2227.6783</td>\n",
       "      <td id=\"T_4fcfa_row0_col2\" class=\"data row0 col2\" >14881735.4755</td>\n",
       "      <td id=\"T_4fcfa_row0_col3\" class=\"data row0 col3\" >3857.6852</td>\n",
       "      <td id=\"T_4fcfa_row0_col4\" class=\"data row0 col4\" >0.8866</td>\n",
       "      <td id=\"T_4fcfa_row0_col5\" class=\"data row0 col5\" >0.3522</td>\n",
       "      <td id=\"T_4fcfa_row0_col6\" class=\"data row0 col6\" >0.2624</td>\n",
       "    </tr>\n",
       "  </tbody>\n",
       "</table>\n"
      ],
      "text/plain": [
       "<pandas.io.formats.style.Styler at 0x130259eb0>"
      ]
     },
     "metadata": {},
     "output_type": "display_data"
    },
    {
     "data": {
      "text/html": [
       "<div>\n",
       "<style scoped>\n",
       "    .dataframe tbody tr th:only-of-type {\n",
       "        vertical-align: middle;\n",
       "    }\n",
       "\n",
       "    .dataframe tbody tr th {\n",
       "        vertical-align: top;\n",
       "    }\n",
       "\n",
       "    .dataframe thead th {\n",
       "        text-align: right;\n",
       "    }\n",
       "</style>\n",
       "<table border=\"1\" class=\"dataframe\">\n",
       "  <thead>\n",
       "    <tr style=\"text-align: right;\">\n",
       "      <th></th>\n",
       "      <th>age</th>\n",
       "      <th>sex</th>\n",
       "      <th>bmi</th>\n",
       "      <th>children</th>\n",
       "      <th>smoker</th>\n",
       "      <th>region</th>\n",
       "      <th>charges</th>\n",
       "      <th>prediction_label</th>\n",
       "    </tr>\n",
       "  </thead>\n",
       "  <tbody>\n",
       "    <tr>\n",
       "      <th>0</th>\n",
       "      <td>50</td>\n",
       "      <td>male</td>\n",
       "      <td>34.200001</td>\n",
       "      <td>2</td>\n",
       "      <td>yes</td>\n",
       "      <td>southwest</td>\n",
       "      <td>42856.839844</td>\n",
       "      <td>42078.306828</td>\n",
       "    </tr>\n",
       "    <tr>\n",
       "      <th>1</th>\n",
       "      <td>27</td>\n",
       "      <td>female</td>\n",
       "      <td>24.100000</td>\n",
       "      <td>0</td>\n",
       "      <td>no</td>\n",
       "      <td>southwest</td>\n",
       "      <td>2974.125977</td>\n",
       "      <td>7262.706422</td>\n",
       "    </tr>\n",
       "    <tr>\n",
       "      <th>2</th>\n",
       "      <td>51</td>\n",
       "      <td>male</td>\n",
       "      <td>33.330002</td>\n",
       "      <td>3</td>\n",
       "      <td>no</td>\n",
       "      <td>southeast</td>\n",
       "      <td>10560.492188</td>\n",
       "      <td>11780.298853</td>\n",
       "    </tr>\n",
       "    <tr>\n",
       "      <th>3</th>\n",
       "      <td>38</td>\n",
       "      <td>female</td>\n",
       "      <td>34.799999</td>\n",
       "      <td>2</td>\n",
       "      <td>no</td>\n",
       "      <td>southwest</td>\n",
       "      <td>6571.543945</td>\n",
       "      <td>8053.835581</td>\n",
       "    </tr>\n",
       "    <tr>\n",
       "      <th>4</th>\n",
       "      <td>27</td>\n",
       "      <td>male</td>\n",
       "      <td>32.584999</td>\n",
       "      <td>3</td>\n",
       "      <td>no</td>\n",
       "      <td>northeast</td>\n",
       "      <td>4846.919922</td>\n",
       "      <td>7291.681332</td>\n",
       "    </tr>\n",
       "  </tbody>\n",
       "</table>\n",
       "</div>"
      ],
      "text/plain": [
       "   age     sex        bmi  children smoker     region       charges  \\\n",
       "0   50    male  34.200001         2    yes  southwest  42856.839844   \n",
       "1   27  female  24.100000         0     no  southwest   2974.125977   \n",
       "2   51    male  33.330002         3     no  southeast  10560.492188   \n",
       "3   38  female  34.799999         2     no  southwest   6571.543945   \n",
       "4   27    male  32.584999         3     no  northeast   4846.919922   \n",
       "\n",
       "   prediction_label  \n",
       "0      42078.306828  \n",
       "1       7262.706422  \n",
       "2      11780.298853  \n",
       "3       8053.835581  \n",
       "4       7291.681332  "
      ]
     },
     "execution_count": 133,
     "metadata": {},
     "output_type": "execute_result"
    }
   ],
   "source": [
    "# Making new predictions with the saved model\n",
    "new_prediction = predict_model(saved_final_gbr, data=test)\n",
    "new_prediction.head()"
   ]
  }
 ],
 "metadata": {
  "kernelspec": {
   "display_name": "venv_regression",
   "language": "python",
   "name": "python3"
  },
  "language_info": {
   "codemirror_mode": {
    "name": "ipython",
    "version": 3
   },
   "file_extension": ".py",
   "mimetype": "text/x-python",
   "name": "python",
   "nbconvert_exporter": "python",
   "pygments_lexer": "ipython3",
   "version": "3.9.6"
  }
 },
 "nbformat": 4,
 "nbformat_minor": 2
}
